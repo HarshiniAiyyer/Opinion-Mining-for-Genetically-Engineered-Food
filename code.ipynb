{
  "nbformat": 4,
  "nbformat_minor": 0,
  "metadata": {
    "colab": {
      "provenance": [],
      "toc_visible": true
    },
    "kernelspec": {
      "name": "python3",
      "display_name": "Python 3"
    },
    "language_info": {
      "name": "python"
    },
    "accelerator": "GPU",
    "gpuClass": "standard"
  },
  "cells": [
    {
      "cell_type": "markdown",
      "source": [
        "## EDA"
      ],
      "metadata": {
        "id": "-TcUfWVwHgHy"
      }
    },
    {
      "cell_type": "code",
      "source": [
        "import pandas as pd\n",
        "\n",
        "import numpy as np\n",
        "import matplotlib.pyplot as plt\n",
        "import seaborn as sns\n",
        "\n"
      ],
      "metadata": {
        "id": "Ruoni-EZHf1h"
      },
      "execution_count": null,
      "outputs": []
    },
    {
      "cell_type": "code",
      "source": [
        "df = pd.read_csv('/content/states (1).csv')\n",
        "df.head()"
      ],
      "metadata": {
        "colab": {
          "base_uri": "https://localhost:8080/",
          "height": 320
        },
        "id": "jL08n1rKHfQt",
        "outputId": "d95dbc7a-0249-44eb-acdb-4eb2862b256a"
      },
      "execution_count": null,
      "outputs": [
        {
          "output_type": "execute_result",
          "data": {
            "text/plain": [
              "        State Uninsured Rate (2010) Uninsured Rate (2015)  \\\n",
              "0    Alabama                 14.60%                10.10%   \n",
              "1     Alaska                 19.90%                14.90%   \n",
              "2    Arizona                 16.90%                10.80%   \n",
              "3   Arkansas                 17.50%                 9.50%   \n",
              "4  California                18.50%                 8.60%   \n",
              "\n",
              "  Uninsured Rate Change (2010-2015)  \\\n",
              "0                            -4.50%   \n",
              "1                               -5%   \n",
              "2                            -6.10%   \n",
              "3                               -8%   \n",
              "4                            -9.90%   \n",
              "\n",
              "   Health Insurance Coverage Change (2010-2015)  \\\n",
              "0                                        215000   \n",
              "1                                         36000   \n",
              "2                                        410000   \n",
              "3                                        234000   \n",
              "4                                       3826000   \n",
              "\n",
              "   Employer Health Insurance Coverage (2015)  \\\n",
              "0                                    2545000   \n",
              "1                                     390000   \n",
              "2                                    3288000   \n",
              "3                                    1365000   \n",
              "4                                   19552000   \n",
              "\n",
              "   Marketplace Health Insurance Coverage (2016)  \\\n",
              "0                                        165534   \n",
              "1                                         17995   \n",
              "2                                        179445   \n",
              "3                                         63357   \n",
              "4                                       1415428   \n",
              "\n",
              "   Marketplace Tax Credits (2016) Average Monthly Tax Credit (2016)  \\\n",
              "0                          152206                             $310    \n",
              "1                           16205                             $750    \n",
              "2                          124346                             $230    \n",
              "3                           56843                             $306    \n",
              "4                         1239893                             $309    \n",
              "\n",
              "  State Medicaid Expansion (2016)  Medicaid Enrollment (2013)  \\\n",
              "0                           False                    799176.0   \n",
              "1                            True                    122334.0   \n",
              "2                            True                   1201770.0   \n",
              "3                            True                    556851.0   \n",
              "4                            True                   7755381.0   \n",
              "\n",
              "   Medicaid Enrollment (2016)  Medicaid Enrollment Change (2013-2016)  \\\n",
              "0                      910775                                111599.0   \n",
              "1                      166625                                 44291.0   \n",
              "2                     1716198                                514428.0   \n",
              "3                      920194                                363343.0   \n",
              "4                    11843081                               4087700.0   \n",
              "\n",
              "   Medicare Enrollment (2016)  \n",
              "0                      989855  \n",
              "1                       88966  \n",
              "2                     1175624  \n",
              "3                      606146  \n",
              "4                     5829777  "
            ],
            "text/html": [
              "\n",
              "  <div id=\"df-05d1b56f-edbb-4c5b-b6ea-17ab3f461c14\">\n",
              "    <div class=\"colab-df-container\">\n",
              "      <div>\n",
              "<style scoped>\n",
              "    .dataframe tbody tr th:only-of-type {\n",
              "        vertical-align: middle;\n",
              "    }\n",
              "\n",
              "    .dataframe tbody tr th {\n",
              "        vertical-align: top;\n",
              "    }\n",
              "\n",
              "    .dataframe thead th {\n",
              "        text-align: right;\n",
              "    }\n",
              "</style>\n",
              "<table border=\"1\" class=\"dataframe\">\n",
              "  <thead>\n",
              "    <tr style=\"text-align: right;\">\n",
              "      <th></th>\n",
              "      <th>State</th>\n",
              "      <th>Uninsured Rate (2010)</th>\n",
              "      <th>Uninsured Rate (2015)</th>\n",
              "      <th>Uninsured Rate Change (2010-2015)</th>\n",
              "      <th>Health Insurance Coverage Change (2010-2015)</th>\n",
              "      <th>Employer Health Insurance Coverage (2015)</th>\n",
              "      <th>Marketplace Health Insurance Coverage (2016)</th>\n",
              "      <th>Marketplace Tax Credits (2016)</th>\n",
              "      <th>Average Monthly Tax Credit (2016)</th>\n",
              "      <th>State Medicaid Expansion (2016)</th>\n",
              "      <th>Medicaid Enrollment (2013)</th>\n",
              "      <th>Medicaid Enrollment (2016)</th>\n",
              "      <th>Medicaid Enrollment Change (2013-2016)</th>\n",
              "      <th>Medicare Enrollment (2016)</th>\n",
              "    </tr>\n",
              "  </thead>\n",
              "  <tbody>\n",
              "    <tr>\n",
              "      <th>0</th>\n",
              "      <td>Alabama</td>\n",
              "      <td>14.60%</td>\n",
              "      <td>10.10%</td>\n",
              "      <td>-4.50%</td>\n",
              "      <td>215000</td>\n",
              "      <td>2545000</td>\n",
              "      <td>165534</td>\n",
              "      <td>152206</td>\n",
              "      <td>$310</td>\n",
              "      <td>False</td>\n",
              "      <td>799176.0</td>\n",
              "      <td>910775</td>\n",
              "      <td>111599.0</td>\n",
              "      <td>989855</td>\n",
              "    </tr>\n",
              "    <tr>\n",
              "      <th>1</th>\n",
              "      <td>Alaska</td>\n",
              "      <td>19.90%</td>\n",
              "      <td>14.90%</td>\n",
              "      <td>-5%</td>\n",
              "      <td>36000</td>\n",
              "      <td>390000</td>\n",
              "      <td>17995</td>\n",
              "      <td>16205</td>\n",
              "      <td>$750</td>\n",
              "      <td>True</td>\n",
              "      <td>122334.0</td>\n",
              "      <td>166625</td>\n",
              "      <td>44291.0</td>\n",
              "      <td>88966</td>\n",
              "    </tr>\n",
              "    <tr>\n",
              "      <th>2</th>\n",
              "      <td>Arizona</td>\n",
              "      <td>16.90%</td>\n",
              "      <td>10.80%</td>\n",
              "      <td>-6.10%</td>\n",
              "      <td>410000</td>\n",
              "      <td>3288000</td>\n",
              "      <td>179445</td>\n",
              "      <td>124346</td>\n",
              "      <td>$230</td>\n",
              "      <td>True</td>\n",
              "      <td>1201770.0</td>\n",
              "      <td>1716198</td>\n",
              "      <td>514428.0</td>\n",
              "      <td>1175624</td>\n",
              "    </tr>\n",
              "    <tr>\n",
              "      <th>3</th>\n",
              "      <td>Arkansas</td>\n",
              "      <td>17.50%</td>\n",
              "      <td>9.50%</td>\n",
              "      <td>-8%</td>\n",
              "      <td>234000</td>\n",
              "      <td>1365000</td>\n",
              "      <td>63357</td>\n",
              "      <td>56843</td>\n",
              "      <td>$306</td>\n",
              "      <td>True</td>\n",
              "      <td>556851.0</td>\n",
              "      <td>920194</td>\n",
              "      <td>363343.0</td>\n",
              "      <td>606146</td>\n",
              "    </tr>\n",
              "    <tr>\n",
              "      <th>4</th>\n",
              "      <td>California</td>\n",
              "      <td>18.50%</td>\n",
              "      <td>8.60%</td>\n",
              "      <td>-9.90%</td>\n",
              "      <td>3826000</td>\n",
              "      <td>19552000</td>\n",
              "      <td>1415428</td>\n",
              "      <td>1239893</td>\n",
              "      <td>$309</td>\n",
              "      <td>True</td>\n",
              "      <td>7755381.0</td>\n",
              "      <td>11843081</td>\n",
              "      <td>4087700.0</td>\n",
              "      <td>5829777</td>\n",
              "    </tr>\n",
              "  </tbody>\n",
              "</table>\n",
              "</div>\n",
              "      <button class=\"colab-df-convert\" onclick=\"convertToInteractive('df-05d1b56f-edbb-4c5b-b6ea-17ab3f461c14')\"\n",
              "              title=\"Convert this dataframe to an interactive table.\"\n",
              "              style=\"display:none;\">\n",
              "        \n",
              "  <svg xmlns=\"http://www.w3.org/2000/svg\" height=\"24px\"viewBox=\"0 0 24 24\"\n",
              "       width=\"24px\">\n",
              "    <path d=\"M0 0h24v24H0V0z\" fill=\"none\"/>\n",
              "    <path d=\"M18.56 5.44l.94 2.06.94-2.06 2.06-.94-2.06-.94-.94-2.06-.94 2.06-2.06.94zm-11 1L8.5 8.5l.94-2.06 2.06-.94-2.06-.94L8.5 2.5l-.94 2.06-2.06.94zm10 10l.94 2.06.94-2.06 2.06-.94-2.06-.94-.94-2.06-.94 2.06-2.06.94z\"/><path d=\"M17.41 7.96l-1.37-1.37c-.4-.4-.92-.59-1.43-.59-.52 0-1.04.2-1.43.59L10.3 9.45l-7.72 7.72c-.78.78-.78 2.05 0 2.83L4 21.41c.39.39.9.59 1.41.59.51 0 1.02-.2 1.41-.59l7.78-7.78 2.81-2.81c.8-.78.8-2.07 0-2.86zM5.41 20L4 18.59l7.72-7.72 1.47 1.35L5.41 20z\"/>\n",
              "  </svg>\n",
              "      </button>\n",
              "      \n",
              "  <style>\n",
              "    .colab-df-container {\n",
              "      display:flex;\n",
              "      flex-wrap:wrap;\n",
              "      gap: 12px;\n",
              "    }\n",
              "\n",
              "    .colab-df-convert {\n",
              "      background-color: #E8F0FE;\n",
              "      border: none;\n",
              "      border-radius: 50%;\n",
              "      cursor: pointer;\n",
              "      display: none;\n",
              "      fill: #1967D2;\n",
              "      height: 32px;\n",
              "      padding: 0 0 0 0;\n",
              "      width: 32px;\n",
              "    }\n",
              "\n",
              "    .colab-df-convert:hover {\n",
              "      background-color: #E2EBFA;\n",
              "      box-shadow: 0px 1px 2px rgba(60, 64, 67, 0.3), 0px 1px 3px 1px rgba(60, 64, 67, 0.15);\n",
              "      fill: #174EA6;\n",
              "    }\n",
              "\n",
              "    [theme=dark] .colab-df-convert {\n",
              "      background-color: #3B4455;\n",
              "      fill: #D2E3FC;\n",
              "    }\n",
              "\n",
              "    [theme=dark] .colab-df-convert:hover {\n",
              "      background-color: #434B5C;\n",
              "      box-shadow: 0px 1px 3px 1px rgba(0, 0, 0, 0.15);\n",
              "      filter: drop-shadow(0px 1px 2px rgba(0, 0, 0, 0.3));\n",
              "      fill: #FFFFFF;\n",
              "    }\n",
              "  </style>\n",
              "\n",
              "      <script>\n",
              "        const buttonEl =\n",
              "          document.querySelector('#df-05d1b56f-edbb-4c5b-b6ea-17ab3f461c14 button.colab-df-convert');\n",
              "        buttonEl.style.display =\n",
              "          google.colab.kernel.accessAllowed ? 'block' : 'none';\n",
              "\n",
              "        async function convertToInteractive(key) {\n",
              "          const element = document.querySelector('#df-05d1b56f-edbb-4c5b-b6ea-17ab3f461c14');\n",
              "          const dataTable =\n",
              "            await google.colab.kernel.invokeFunction('convertToInteractive',\n",
              "                                                     [key], {});\n",
              "          if (!dataTable) return;\n",
              "\n",
              "          const docLinkHtml = 'Like what you see? Visit the ' +\n",
              "            '<a target=\"_blank\" href=https://colab.research.google.com/notebooks/data_table.ipynb>data table notebook</a>'\n",
              "            + ' to learn more about interactive tables.';\n",
              "          element.innerHTML = '';\n",
              "          dataTable['output_type'] = 'display_data';\n",
              "          await google.colab.output.renderOutput(dataTable, element);\n",
              "          const docLink = document.createElement('div');\n",
              "          docLink.innerHTML = docLinkHtml;\n",
              "          element.appendChild(docLink);\n",
              "        }\n",
              "      </script>\n",
              "    </div>\n",
              "  </div>\n",
              "  "
            ]
          },
          "metadata": {},
          "execution_count": 4
        }
      ]
    },
    {
      "cell_type": "code",
      "source": [
        "df.isnull().sum()"
      ],
      "metadata": {
        "colab": {
          "base_uri": "https://localhost:8080/"
        },
        "id": "L9FWn1guHfN1",
        "outputId": "6f9e24e1-5c02-4241-e953-3784eb0d8ad0"
      },
      "execution_count": null,
      "outputs": [
        {
          "output_type": "execute_result",
          "data": {
            "text/plain": [
              "State                                           0\n",
              "Uninsured Rate (2010)                           0\n",
              "Uninsured Rate (2015)                           0\n",
              "Uninsured Rate Change (2010-2015)               0\n",
              "Health Insurance Coverage Change (2010-2015)    0\n",
              "Employer Health Insurance Coverage (2015)       0\n",
              "Marketplace Health Insurance Coverage (2016)    0\n",
              "Marketplace Tax Credits (2016)                  0\n",
              "Average Monthly Tax Credit (2016)               0\n",
              "State Medicaid Expansion (2016)                 1\n",
              "Medicaid Enrollment (2013)                      2\n",
              "Medicaid Enrollment (2016)                      0\n",
              "Medicaid Enrollment Change (2013-2016)          2\n",
              "Medicare Enrollment (2016)                      0\n",
              "dtype: int64"
            ]
          },
          "metadata": {},
          "execution_count": 5
        }
      ]
    },
    {
      "cell_type": "markdown",
      "source": [
        "#### So we have missing values at three different columns. Imputing them with Median. On location numbers - 9,10,12."
      ],
      "metadata": {
        "id": "06077lITJG_A"
      }
    },
    {
      "cell_type": "code",
      "source": [
        "df = df.fillna(df.median())"
      ],
      "metadata": {
        "colab": {
          "base_uri": "https://localhost:8080/"
        },
        "id": "CGTxexfbJnh2",
        "outputId": "c2332cb8-d9c6-46e1-8b27-18aba17c3c99"
      },
      "execution_count": null,
      "outputs": [
        {
          "output_type": "stream",
          "name": "stderr",
          "text": [
            "/usr/local/lib/python3.7/dist-packages/ipykernel_launcher.py:1: FutureWarning: Dropping of nuisance columns in DataFrame reductions (with 'numeric_only=None') is deprecated; in a future version this will raise TypeError.  Select only valid columns before calling the reduction.\n",
            "  \"\"\"Entry point for launching an IPython kernel.\n"
          ]
        }
      ]
    },
    {
      "cell_type": "code",
      "source": [
        "df.isnull().sum()"
      ],
      "metadata": {
        "colab": {
          "base_uri": "https://localhost:8080/"
        },
        "id": "5ow9ptd5JnfB",
        "outputId": "699d0c60-62b3-49a5-bdaa-7e43dedc9f2c"
      },
      "execution_count": null,
      "outputs": [
        {
          "output_type": "execute_result",
          "data": {
            "text/plain": [
              "State                                           0\n",
              "Uninsured Rate (2010)                           0\n",
              "Uninsured Rate (2015)                           0\n",
              "Uninsured Rate Change (2010-2015)               0\n",
              "Health Insurance Coverage Change (2010-2015)    0\n",
              "Employer Health Insurance Coverage (2015)       0\n",
              "Marketplace Health Insurance Coverage (2016)    0\n",
              "Marketplace Tax Credits (2016)                  0\n",
              "Average Monthly Tax Credit (2016)               0\n",
              "State Medicaid Expansion (2016)                 0\n",
              "Medicaid Enrollment (2013)                      0\n",
              "Medicaid Enrollment (2016)                      0\n",
              "Medicaid Enrollment Change (2013-2016)          0\n",
              "Medicare Enrollment (2016)                      0\n",
              "dtype: int64"
            ]
          },
          "metadata": {},
          "execution_count": 7
        }
      ]
    },
    {
      "cell_type": "markdown",
      "source": [
        "#### No more missing values left."
      ],
      "metadata": {
        "id": "Fv6nUzj2Kriw"
      }
    },
    {
      "cell_type": "code",
      "source": [
        "df.info()"
      ],
      "metadata": {
        "colab": {
          "base_uri": "https://localhost:8080/"
        },
        "id": "2sPsPRDVNUWH",
        "outputId": "f91c608a-6434-4bd0-df30-6a6ceb4dbaa9"
      },
      "execution_count": null,
      "outputs": [
        {
          "output_type": "stream",
          "name": "stdout",
          "text": [
            "<class 'pandas.core.frame.DataFrame'>\n",
            "RangeIndex: 52 entries, 0 to 51\n",
            "Data columns (total 14 columns):\n",
            " #   Column                                        Non-Null Count  Dtype  \n",
            "---  ------                                        --------------  -----  \n",
            " 0   State                                         52 non-null     object \n",
            " 1   Uninsured Rate (2010)                         52 non-null     object \n",
            " 2   Uninsured Rate (2015)                         52 non-null     object \n",
            " 3   Uninsured Rate Change (2010-2015)             52 non-null     object \n",
            " 4   Health Insurance Coverage Change (2010-2015)  52 non-null     int64  \n",
            " 5   Employer Health Insurance Coverage (2015)     52 non-null     int64  \n",
            " 6   Marketplace Health Insurance Coverage (2016)  52 non-null     int64  \n",
            " 7   Marketplace Tax Credits (2016)                52 non-null     int64  \n",
            " 8   Average Monthly Tax Credit (2016)             52 non-null     object \n",
            " 9   State Medicaid Expansion (2016)               52 non-null     object \n",
            " 10  Medicaid Enrollment (2013)                    52 non-null     float64\n",
            " 11  Medicaid Enrollment (2016)                    52 non-null     int64  \n",
            " 12  Medicaid Enrollment Change (2013-2016)        52 non-null     float64\n",
            " 13  Medicare Enrollment (2016)                    52 non-null     int64  \n",
            "dtypes: float64(2), int64(6), object(6)\n",
            "memory usage: 5.8+ KB\n"
          ]
        }
      ]
    },
    {
      "cell_type": "code",
      "source": [
        "df.iloc[:,10] = df.iloc[:,10].astype(int)"
      ],
      "metadata": {
        "id": "QuNP6JdQz3-Q"
      },
      "execution_count": null,
      "outputs": []
    },
    {
      "cell_type": "code",
      "source": [
        "df.iloc[:,12] = df.iloc[:,12].astype(int)"
      ],
      "metadata": {
        "id": "gwgsDz5x0Cr0"
      },
      "execution_count": null,
      "outputs": []
    },
    {
      "cell_type": "code",
      "source": [
        "df['State Medicaid Expansion (2016)'].value_counts()"
      ],
      "metadata": {
        "id": "13uIFf_UVlTy",
        "colab": {
          "base_uri": "https://localhost:8080/"
        },
        "outputId": "1a622c63-9a8a-406d-f79a-881e68f1a90b"
      },
      "execution_count": null,
      "outputs": [
        {
          "output_type": "execute_result",
          "data": {
            "text/plain": [
              "True     33\n",
              "False    19\n",
              "Name: State Medicaid Expansion (2016), dtype: int64"
            ]
          },
          "metadata": {},
          "execution_count": 11
        }
      ]
    },
    {
      "cell_type": "code",
      "source": [
        "df['State Medicaid Expansion (2016)'].replace(np.nan,'True', inplace = True )"
      ],
      "metadata": {
        "id": "pjqKjJqDJspC"
      },
      "execution_count": null,
      "outputs": []
    },
    {
      "cell_type": "code",
      "source": [
        "df['Medicaid Enrollment (2013)'].mean()"
      ],
      "metadata": {
        "id": "BR1EPXiqVehD",
        "colab": {
          "base_uri": "https://localhost:8080/"
        },
        "outputId": "d21306ee-ea56-4abb-c27a-2ad4e3ac8d98"
      },
      "execution_count": null,
      "outputs": [
        {
          "output_type": "execute_result",
          "data": {
            "text/plain": [
              "2199503.4615384615"
            ]
          },
          "metadata": {},
          "execution_count": 13
        }
      ]
    },
    {
      "cell_type": "code",
      "source": [
        "df['Medicaid Enrollment (2013)'].replace(np.nan,2199503.480769231, inplace = True )"
      ],
      "metadata": {
        "id": "jyJGT-IUNUTx"
      },
      "execution_count": null,
      "outputs": []
    },
    {
      "cell_type": "code",
      "source": [
        "df['Medicaid Enrollment Change (2013-2016)'].mean()"
      ],
      "metadata": {
        "id": "SVC219nDHfFW",
        "colab": {
          "base_uri": "https://localhost:8080/"
        },
        "outputId": "092b7924-4a3d-42b2-91e5-ab9edd213fc9"
      },
      "execution_count": null,
      "outputs": [
        {
          "output_type": "execute_result",
          "data": {
            "text/plain": [
              "628473.5769230769"
            ]
          },
          "metadata": {},
          "execution_count": 15
        }
      ]
    },
    {
      "cell_type": "code",
      "source": [
        "df['Medicaid Enrollment Change (2013-2016)'].replace(np.nan,628473.5769230769, inplace = True )"
      ],
      "metadata": {
        "id": "djHvlLWSHfCV"
      },
      "execution_count": null,
      "outputs": []
    },
    {
      "cell_type": "code",
      "source": [
        "df.isna().sum()"
      ],
      "metadata": {
        "id": "bEEZJ6BeHe9P",
        "colab": {
          "base_uri": "https://localhost:8080/"
        },
        "outputId": "d315efd9-aa14-4a25-97c0-0459a662fa75"
      },
      "execution_count": null,
      "outputs": [
        {
          "output_type": "execute_result",
          "data": {
            "text/plain": [
              "State                                           0\n",
              "Uninsured Rate (2010)                           0\n",
              "Uninsured Rate (2015)                           0\n",
              "Uninsured Rate Change (2010-2015)               0\n",
              "Health Insurance Coverage Change (2010-2015)    0\n",
              "Employer Health Insurance Coverage (2015)       0\n",
              "Marketplace Health Insurance Coverage (2016)    0\n",
              "Marketplace Tax Credits (2016)                  0\n",
              "Average Monthly Tax Credit (2016)               0\n",
              "State Medicaid Expansion (2016)                 0\n",
              "Medicaid Enrollment (2013)                      0\n",
              "Medicaid Enrollment (2016)                      0\n",
              "Medicaid Enrollment Change (2013-2016)          0\n",
              "Medicare Enrollment (2016)                      0\n",
              "dtype: int64"
            ]
          },
          "metadata": {},
          "execution_count": 17
        }
      ]
    },
    {
      "cell_type": "code",
      "source": [
        "df['State Medicaid Expansion (2016)'].replace('True', 1, inplace = True)\n",
        "df['State Medicaid Expansion (2016)'].replace('False', 1, inplace = True)"
      ],
      "metadata": {
        "id": "wYCNmJDlHe6n"
      },
      "execution_count": null,
      "outputs": []
    },
    {
      "cell_type": "code",
      "source": [
        "df['Uninsured Rate (2010)'] = list(map(lambda x: x[:-1], df['Uninsured Rate (2010)'].values))\n",
        "df['Uninsured Rate (2015)'] = list(map(lambda x: x[:-1], df['Uninsured Rate (2015)'].values))"
      ],
      "metadata": {
        "id": "RSHPABSALhtw"
      },
      "execution_count": null,
      "outputs": []
    },
    {
      "cell_type": "code",
      "source": [
        "df.head()"
      ],
      "metadata": {
        "colab": {
          "base_uri": "https://localhost:8080/",
          "height": 320
        },
        "id": "smEla6yZLhzU",
        "outputId": "d083e697-f003-4774-b159-861e3c67e212"
      },
      "execution_count": null,
      "outputs": [
        {
          "output_type": "execute_result",
          "data": {
            "text/plain": [
              "        State Uninsured Rate (2010) Uninsured Rate (2015)  \\\n",
              "0    Alabama                  14.60                 10.10   \n",
              "1     Alaska                  19.90                 14.90   \n",
              "2    Arizona                  16.90                 10.80   \n",
              "3   Arkansas                  17.50                  9.50   \n",
              "4  California                 18.50                  8.60   \n",
              "\n",
              "  Uninsured Rate Change (2010-2015)  \\\n",
              "0                            -4.50%   \n",
              "1                               -5%   \n",
              "2                            -6.10%   \n",
              "3                               -8%   \n",
              "4                            -9.90%   \n",
              "\n",
              "   Health Insurance Coverage Change (2010-2015)  \\\n",
              "0                                        215000   \n",
              "1                                         36000   \n",
              "2                                        410000   \n",
              "3                                        234000   \n",
              "4                                       3826000   \n",
              "\n",
              "   Employer Health Insurance Coverage (2015)  \\\n",
              "0                                    2545000   \n",
              "1                                     390000   \n",
              "2                                    3288000   \n",
              "3                                    1365000   \n",
              "4                                   19552000   \n",
              "\n",
              "   Marketplace Health Insurance Coverage (2016)  \\\n",
              "0                                        165534   \n",
              "1                                         17995   \n",
              "2                                        179445   \n",
              "3                                         63357   \n",
              "4                                       1415428   \n",
              "\n",
              "   Marketplace Tax Credits (2016) Average Monthly Tax Credit (2016)  \\\n",
              "0                          152206                             $310    \n",
              "1                           16205                             $750    \n",
              "2                          124346                             $230    \n",
              "3                           56843                             $306    \n",
              "4                         1239893                             $309    \n",
              "\n",
              "  State Medicaid Expansion (2016)  Medicaid Enrollment (2013)  \\\n",
              "0                           False                      799176   \n",
              "1                            True                      122334   \n",
              "2                            True                     1201770   \n",
              "3                            True                      556851   \n",
              "4                            True                     7755381   \n",
              "\n",
              "   Medicaid Enrollment (2016)  Medicaid Enrollment Change (2013-2016)  \\\n",
              "0                      910775                                  111599   \n",
              "1                      166625                                   44291   \n",
              "2                     1716198                                  514428   \n",
              "3                      920194                                  363343   \n",
              "4                    11843081                                 4087700   \n",
              "\n",
              "   Medicare Enrollment (2016)  \n",
              "0                      989855  \n",
              "1                       88966  \n",
              "2                     1175624  \n",
              "3                      606146  \n",
              "4                     5829777  "
            ],
            "text/html": [
              "\n",
              "  <div id=\"df-00d0b02d-43f5-423f-8d97-3e1dbc2d3222\">\n",
              "    <div class=\"colab-df-container\">\n",
              "      <div>\n",
              "<style scoped>\n",
              "    .dataframe tbody tr th:only-of-type {\n",
              "        vertical-align: middle;\n",
              "    }\n",
              "\n",
              "    .dataframe tbody tr th {\n",
              "        vertical-align: top;\n",
              "    }\n",
              "\n",
              "    .dataframe thead th {\n",
              "        text-align: right;\n",
              "    }\n",
              "</style>\n",
              "<table border=\"1\" class=\"dataframe\">\n",
              "  <thead>\n",
              "    <tr style=\"text-align: right;\">\n",
              "      <th></th>\n",
              "      <th>State</th>\n",
              "      <th>Uninsured Rate (2010)</th>\n",
              "      <th>Uninsured Rate (2015)</th>\n",
              "      <th>Uninsured Rate Change (2010-2015)</th>\n",
              "      <th>Health Insurance Coverage Change (2010-2015)</th>\n",
              "      <th>Employer Health Insurance Coverage (2015)</th>\n",
              "      <th>Marketplace Health Insurance Coverage (2016)</th>\n",
              "      <th>Marketplace Tax Credits (2016)</th>\n",
              "      <th>Average Monthly Tax Credit (2016)</th>\n",
              "      <th>State Medicaid Expansion (2016)</th>\n",
              "      <th>Medicaid Enrollment (2013)</th>\n",
              "      <th>Medicaid Enrollment (2016)</th>\n",
              "      <th>Medicaid Enrollment Change (2013-2016)</th>\n",
              "      <th>Medicare Enrollment (2016)</th>\n",
              "    </tr>\n",
              "  </thead>\n",
              "  <tbody>\n",
              "    <tr>\n",
              "      <th>0</th>\n",
              "      <td>Alabama</td>\n",
              "      <td>14.60</td>\n",
              "      <td>10.10</td>\n",
              "      <td>-4.50%</td>\n",
              "      <td>215000</td>\n",
              "      <td>2545000</td>\n",
              "      <td>165534</td>\n",
              "      <td>152206</td>\n",
              "      <td>$310</td>\n",
              "      <td>False</td>\n",
              "      <td>799176</td>\n",
              "      <td>910775</td>\n",
              "      <td>111599</td>\n",
              "      <td>989855</td>\n",
              "    </tr>\n",
              "    <tr>\n",
              "      <th>1</th>\n",
              "      <td>Alaska</td>\n",
              "      <td>19.90</td>\n",
              "      <td>14.90</td>\n",
              "      <td>-5%</td>\n",
              "      <td>36000</td>\n",
              "      <td>390000</td>\n",
              "      <td>17995</td>\n",
              "      <td>16205</td>\n",
              "      <td>$750</td>\n",
              "      <td>True</td>\n",
              "      <td>122334</td>\n",
              "      <td>166625</td>\n",
              "      <td>44291</td>\n",
              "      <td>88966</td>\n",
              "    </tr>\n",
              "    <tr>\n",
              "      <th>2</th>\n",
              "      <td>Arizona</td>\n",
              "      <td>16.90</td>\n",
              "      <td>10.80</td>\n",
              "      <td>-6.10%</td>\n",
              "      <td>410000</td>\n",
              "      <td>3288000</td>\n",
              "      <td>179445</td>\n",
              "      <td>124346</td>\n",
              "      <td>$230</td>\n",
              "      <td>True</td>\n",
              "      <td>1201770</td>\n",
              "      <td>1716198</td>\n",
              "      <td>514428</td>\n",
              "      <td>1175624</td>\n",
              "    </tr>\n",
              "    <tr>\n",
              "      <th>3</th>\n",
              "      <td>Arkansas</td>\n",
              "      <td>17.50</td>\n",
              "      <td>9.50</td>\n",
              "      <td>-8%</td>\n",
              "      <td>234000</td>\n",
              "      <td>1365000</td>\n",
              "      <td>63357</td>\n",
              "      <td>56843</td>\n",
              "      <td>$306</td>\n",
              "      <td>True</td>\n",
              "      <td>556851</td>\n",
              "      <td>920194</td>\n",
              "      <td>363343</td>\n",
              "      <td>606146</td>\n",
              "    </tr>\n",
              "    <tr>\n",
              "      <th>4</th>\n",
              "      <td>California</td>\n",
              "      <td>18.50</td>\n",
              "      <td>8.60</td>\n",
              "      <td>-9.90%</td>\n",
              "      <td>3826000</td>\n",
              "      <td>19552000</td>\n",
              "      <td>1415428</td>\n",
              "      <td>1239893</td>\n",
              "      <td>$309</td>\n",
              "      <td>True</td>\n",
              "      <td>7755381</td>\n",
              "      <td>11843081</td>\n",
              "      <td>4087700</td>\n",
              "      <td>5829777</td>\n",
              "    </tr>\n",
              "  </tbody>\n",
              "</table>\n",
              "</div>\n",
              "      <button class=\"colab-df-convert\" onclick=\"convertToInteractive('df-00d0b02d-43f5-423f-8d97-3e1dbc2d3222')\"\n",
              "              title=\"Convert this dataframe to an interactive table.\"\n",
              "              style=\"display:none;\">\n",
              "        \n",
              "  <svg xmlns=\"http://www.w3.org/2000/svg\" height=\"24px\"viewBox=\"0 0 24 24\"\n",
              "       width=\"24px\">\n",
              "    <path d=\"M0 0h24v24H0V0z\" fill=\"none\"/>\n",
              "    <path d=\"M18.56 5.44l.94 2.06.94-2.06 2.06-.94-2.06-.94-.94-2.06-.94 2.06-2.06.94zm-11 1L8.5 8.5l.94-2.06 2.06-.94-2.06-.94L8.5 2.5l-.94 2.06-2.06.94zm10 10l.94 2.06.94-2.06 2.06-.94-2.06-.94-.94-2.06-.94 2.06-2.06.94z\"/><path d=\"M17.41 7.96l-1.37-1.37c-.4-.4-.92-.59-1.43-.59-.52 0-1.04.2-1.43.59L10.3 9.45l-7.72 7.72c-.78.78-.78 2.05 0 2.83L4 21.41c.39.39.9.59 1.41.59.51 0 1.02-.2 1.41-.59l7.78-7.78 2.81-2.81c.8-.78.8-2.07 0-2.86zM5.41 20L4 18.59l7.72-7.72 1.47 1.35L5.41 20z\"/>\n",
              "  </svg>\n",
              "      </button>\n",
              "      \n",
              "  <style>\n",
              "    .colab-df-container {\n",
              "      display:flex;\n",
              "      flex-wrap:wrap;\n",
              "      gap: 12px;\n",
              "    }\n",
              "\n",
              "    .colab-df-convert {\n",
              "      background-color: #E8F0FE;\n",
              "      border: none;\n",
              "      border-radius: 50%;\n",
              "      cursor: pointer;\n",
              "      display: none;\n",
              "      fill: #1967D2;\n",
              "      height: 32px;\n",
              "      padding: 0 0 0 0;\n",
              "      width: 32px;\n",
              "    }\n",
              "\n",
              "    .colab-df-convert:hover {\n",
              "      background-color: #E2EBFA;\n",
              "      box-shadow: 0px 1px 2px rgba(60, 64, 67, 0.3), 0px 1px 3px 1px rgba(60, 64, 67, 0.15);\n",
              "      fill: #174EA6;\n",
              "    }\n",
              "\n",
              "    [theme=dark] .colab-df-convert {\n",
              "      background-color: #3B4455;\n",
              "      fill: #D2E3FC;\n",
              "    }\n",
              "\n",
              "    [theme=dark] .colab-df-convert:hover {\n",
              "      background-color: #434B5C;\n",
              "      box-shadow: 0px 1px 3px 1px rgba(0, 0, 0, 0.15);\n",
              "      filter: drop-shadow(0px 1px 2px rgba(0, 0, 0, 0.3));\n",
              "      fill: #FFFFFF;\n",
              "    }\n",
              "  </style>\n",
              "\n",
              "      <script>\n",
              "        const buttonEl =\n",
              "          document.querySelector('#df-00d0b02d-43f5-423f-8d97-3e1dbc2d3222 button.colab-df-convert');\n",
              "        buttonEl.style.display =\n",
              "          google.colab.kernel.accessAllowed ? 'block' : 'none';\n",
              "\n",
              "        async function convertToInteractive(key) {\n",
              "          const element = document.querySelector('#df-00d0b02d-43f5-423f-8d97-3e1dbc2d3222');\n",
              "          const dataTable =\n",
              "            await google.colab.kernel.invokeFunction('convertToInteractive',\n",
              "                                                     [key], {});\n",
              "          if (!dataTable) return;\n",
              "\n",
              "          const docLinkHtml = 'Like what you see? Visit the ' +\n",
              "            '<a target=\"_blank\" href=https://colab.research.google.com/notebooks/data_table.ipynb>data table notebook</a>'\n",
              "            + ' to learn more about interactive tables.';\n",
              "          element.innerHTML = '';\n",
              "          dataTable['output_type'] = 'display_data';\n",
              "          await google.colab.output.renderOutput(dataTable, element);\n",
              "          const docLink = document.createElement('div');\n",
              "          docLink.innerHTML = docLinkHtml;\n",
              "          element.appendChild(docLink);\n",
              "        }\n",
              "      </script>\n",
              "    </div>\n",
              "  </div>\n",
              "  "
            ]
          },
          "metadata": {},
          "execution_count": 20
        }
      ]
    },
    {
      "cell_type": "code",
      "source": [
        "df['Uninsured Rate Change (2010-2015)'] = list(map(lambda x: x[:-1], df['Uninsured Rate Change (2010-2015)'].values))"
      ],
      "metadata": {
        "id": "7bBzlWNZLh7L"
      },
      "execution_count": null,
      "outputs": []
    },
    {
      "cell_type": "code",
      "source": [
        "df.head()"
      ],
      "metadata": {
        "colab": {
          "base_uri": "https://localhost:8080/",
          "height": 320
        },
        "id": "giQpMZfTLh91",
        "outputId": "64ece044-f22a-4fe8-fcec-406cf416d8f2"
      },
      "execution_count": null,
      "outputs": [
        {
          "output_type": "execute_result",
          "data": {
            "text/plain": [
              "        State Uninsured Rate (2010) Uninsured Rate (2015)  \\\n",
              "0    Alabama                  14.60                 10.10   \n",
              "1     Alaska                  19.90                 14.90   \n",
              "2    Arizona                  16.90                 10.80   \n",
              "3   Arkansas                  17.50                  9.50   \n",
              "4  California                 18.50                  8.60   \n",
              "\n",
              "  Uninsured Rate Change (2010-2015)  \\\n",
              "0                             -4.50   \n",
              "1                                -5   \n",
              "2                             -6.10   \n",
              "3                                -8   \n",
              "4                             -9.90   \n",
              "\n",
              "   Health Insurance Coverage Change (2010-2015)  \\\n",
              "0                                        215000   \n",
              "1                                         36000   \n",
              "2                                        410000   \n",
              "3                                        234000   \n",
              "4                                       3826000   \n",
              "\n",
              "   Employer Health Insurance Coverage (2015)  \\\n",
              "0                                    2545000   \n",
              "1                                     390000   \n",
              "2                                    3288000   \n",
              "3                                    1365000   \n",
              "4                                   19552000   \n",
              "\n",
              "   Marketplace Health Insurance Coverage (2016)  \\\n",
              "0                                        165534   \n",
              "1                                         17995   \n",
              "2                                        179445   \n",
              "3                                         63357   \n",
              "4                                       1415428   \n",
              "\n",
              "   Marketplace Tax Credits (2016) Average Monthly Tax Credit (2016)  \\\n",
              "0                          152206                             $310    \n",
              "1                           16205                             $750    \n",
              "2                          124346                             $230    \n",
              "3                           56843                             $306    \n",
              "4                         1239893                             $309    \n",
              "\n",
              "  State Medicaid Expansion (2016)  Medicaid Enrollment (2013)  \\\n",
              "0                           False                      799176   \n",
              "1                            True                      122334   \n",
              "2                            True                     1201770   \n",
              "3                            True                      556851   \n",
              "4                            True                     7755381   \n",
              "\n",
              "   Medicaid Enrollment (2016)  Medicaid Enrollment Change (2013-2016)  \\\n",
              "0                      910775                                  111599   \n",
              "1                      166625                                   44291   \n",
              "2                     1716198                                  514428   \n",
              "3                      920194                                  363343   \n",
              "4                    11843081                                 4087700   \n",
              "\n",
              "   Medicare Enrollment (2016)  \n",
              "0                      989855  \n",
              "1                       88966  \n",
              "2                     1175624  \n",
              "3                      606146  \n",
              "4                     5829777  "
            ],
            "text/html": [
              "\n",
              "  <div id=\"df-c0a00464-a5ed-4617-b92f-c22a9ba2d850\">\n",
              "    <div class=\"colab-df-container\">\n",
              "      <div>\n",
              "<style scoped>\n",
              "    .dataframe tbody tr th:only-of-type {\n",
              "        vertical-align: middle;\n",
              "    }\n",
              "\n",
              "    .dataframe tbody tr th {\n",
              "        vertical-align: top;\n",
              "    }\n",
              "\n",
              "    .dataframe thead th {\n",
              "        text-align: right;\n",
              "    }\n",
              "</style>\n",
              "<table border=\"1\" class=\"dataframe\">\n",
              "  <thead>\n",
              "    <tr style=\"text-align: right;\">\n",
              "      <th></th>\n",
              "      <th>State</th>\n",
              "      <th>Uninsured Rate (2010)</th>\n",
              "      <th>Uninsured Rate (2015)</th>\n",
              "      <th>Uninsured Rate Change (2010-2015)</th>\n",
              "      <th>Health Insurance Coverage Change (2010-2015)</th>\n",
              "      <th>Employer Health Insurance Coverage (2015)</th>\n",
              "      <th>Marketplace Health Insurance Coverage (2016)</th>\n",
              "      <th>Marketplace Tax Credits (2016)</th>\n",
              "      <th>Average Monthly Tax Credit (2016)</th>\n",
              "      <th>State Medicaid Expansion (2016)</th>\n",
              "      <th>Medicaid Enrollment (2013)</th>\n",
              "      <th>Medicaid Enrollment (2016)</th>\n",
              "      <th>Medicaid Enrollment Change (2013-2016)</th>\n",
              "      <th>Medicare Enrollment (2016)</th>\n",
              "    </tr>\n",
              "  </thead>\n",
              "  <tbody>\n",
              "    <tr>\n",
              "      <th>0</th>\n",
              "      <td>Alabama</td>\n",
              "      <td>14.60</td>\n",
              "      <td>10.10</td>\n",
              "      <td>-4.50</td>\n",
              "      <td>215000</td>\n",
              "      <td>2545000</td>\n",
              "      <td>165534</td>\n",
              "      <td>152206</td>\n",
              "      <td>$310</td>\n",
              "      <td>False</td>\n",
              "      <td>799176</td>\n",
              "      <td>910775</td>\n",
              "      <td>111599</td>\n",
              "      <td>989855</td>\n",
              "    </tr>\n",
              "    <tr>\n",
              "      <th>1</th>\n",
              "      <td>Alaska</td>\n",
              "      <td>19.90</td>\n",
              "      <td>14.90</td>\n",
              "      <td>-5</td>\n",
              "      <td>36000</td>\n",
              "      <td>390000</td>\n",
              "      <td>17995</td>\n",
              "      <td>16205</td>\n",
              "      <td>$750</td>\n",
              "      <td>True</td>\n",
              "      <td>122334</td>\n",
              "      <td>166625</td>\n",
              "      <td>44291</td>\n",
              "      <td>88966</td>\n",
              "    </tr>\n",
              "    <tr>\n",
              "      <th>2</th>\n",
              "      <td>Arizona</td>\n",
              "      <td>16.90</td>\n",
              "      <td>10.80</td>\n",
              "      <td>-6.10</td>\n",
              "      <td>410000</td>\n",
              "      <td>3288000</td>\n",
              "      <td>179445</td>\n",
              "      <td>124346</td>\n",
              "      <td>$230</td>\n",
              "      <td>True</td>\n",
              "      <td>1201770</td>\n",
              "      <td>1716198</td>\n",
              "      <td>514428</td>\n",
              "      <td>1175624</td>\n",
              "    </tr>\n",
              "    <tr>\n",
              "      <th>3</th>\n",
              "      <td>Arkansas</td>\n",
              "      <td>17.50</td>\n",
              "      <td>9.50</td>\n",
              "      <td>-8</td>\n",
              "      <td>234000</td>\n",
              "      <td>1365000</td>\n",
              "      <td>63357</td>\n",
              "      <td>56843</td>\n",
              "      <td>$306</td>\n",
              "      <td>True</td>\n",
              "      <td>556851</td>\n",
              "      <td>920194</td>\n",
              "      <td>363343</td>\n",
              "      <td>606146</td>\n",
              "    </tr>\n",
              "    <tr>\n",
              "      <th>4</th>\n",
              "      <td>California</td>\n",
              "      <td>18.50</td>\n",
              "      <td>8.60</td>\n",
              "      <td>-9.90</td>\n",
              "      <td>3826000</td>\n",
              "      <td>19552000</td>\n",
              "      <td>1415428</td>\n",
              "      <td>1239893</td>\n",
              "      <td>$309</td>\n",
              "      <td>True</td>\n",
              "      <td>7755381</td>\n",
              "      <td>11843081</td>\n",
              "      <td>4087700</td>\n",
              "      <td>5829777</td>\n",
              "    </tr>\n",
              "  </tbody>\n",
              "</table>\n",
              "</div>\n",
              "      <button class=\"colab-df-convert\" onclick=\"convertToInteractive('df-c0a00464-a5ed-4617-b92f-c22a9ba2d850')\"\n",
              "              title=\"Convert this dataframe to an interactive table.\"\n",
              "              style=\"display:none;\">\n",
              "        \n",
              "  <svg xmlns=\"http://www.w3.org/2000/svg\" height=\"24px\"viewBox=\"0 0 24 24\"\n",
              "       width=\"24px\">\n",
              "    <path d=\"M0 0h24v24H0V0z\" fill=\"none\"/>\n",
              "    <path d=\"M18.56 5.44l.94 2.06.94-2.06 2.06-.94-2.06-.94-.94-2.06-.94 2.06-2.06.94zm-11 1L8.5 8.5l.94-2.06 2.06-.94-2.06-.94L8.5 2.5l-.94 2.06-2.06.94zm10 10l.94 2.06.94-2.06 2.06-.94-2.06-.94-.94-2.06-.94 2.06-2.06.94z\"/><path d=\"M17.41 7.96l-1.37-1.37c-.4-.4-.92-.59-1.43-.59-.52 0-1.04.2-1.43.59L10.3 9.45l-7.72 7.72c-.78.78-.78 2.05 0 2.83L4 21.41c.39.39.9.59 1.41.59.51 0 1.02-.2 1.41-.59l7.78-7.78 2.81-2.81c.8-.78.8-2.07 0-2.86zM5.41 20L4 18.59l7.72-7.72 1.47 1.35L5.41 20z\"/>\n",
              "  </svg>\n",
              "      </button>\n",
              "      \n",
              "  <style>\n",
              "    .colab-df-container {\n",
              "      display:flex;\n",
              "      flex-wrap:wrap;\n",
              "      gap: 12px;\n",
              "    }\n",
              "\n",
              "    .colab-df-convert {\n",
              "      background-color: #E8F0FE;\n",
              "      border: none;\n",
              "      border-radius: 50%;\n",
              "      cursor: pointer;\n",
              "      display: none;\n",
              "      fill: #1967D2;\n",
              "      height: 32px;\n",
              "      padding: 0 0 0 0;\n",
              "      width: 32px;\n",
              "    }\n",
              "\n",
              "    .colab-df-convert:hover {\n",
              "      background-color: #E2EBFA;\n",
              "      box-shadow: 0px 1px 2px rgba(60, 64, 67, 0.3), 0px 1px 3px 1px rgba(60, 64, 67, 0.15);\n",
              "      fill: #174EA6;\n",
              "    }\n",
              "\n",
              "    [theme=dark] .colab-df-convert {\n",
              "      background-color: #3B4455;\n",
              "      fill: #D2E3FC;\n",
              "    }\n",
              "\n",
              "    [theme=dark] .colab-df-convert:hover {\n",
              "      background-color: #434B5C;\n",
              "      box-shadow: 0px 1px 3px 1px rgba(0, 0, 0, 0.15);\n",
              "      filter: drop-shadow(0px 1px 2px rgba(0, 0, 0, 0.3));\n",
              "      fill: #FFFFFF;\n",
              "    }\n",
              "  </style>\n",
              "\n",
              "      <script>\n",
              "        const buttonEl =\n",
              "          document.querySelector('#df-c0a00464-a5ed-4617-b92f-c22a9ba2d850 button.colab-df-convert');\n",
              "        buttonEl.style.display =\n",
              "          google.colab.kernel.accessAllowed ? 'block' : 'none';\n",
              "\n",
              "        async function convertToInteractive(key) {\n",
              "          const element = document.querySelector('#df-c0a00464-a5ed-4617-b92f-c22a9ba2d850');\n",
              "          const dataTable =\n",
              "            await google.colab.kernel.invokeFunction('convertToInteractive',\n",
              "                                                     [key], {});\n",
              "          if (!dataTable) return;\n",
              "\n",
              "          const docLinkHtml = 'Like what you see? Visit the ' +\n",
              "            '<a target=\"_blank\" href=https://colab.research.google.com/notebooks/data_table.ipynb>data table notebook</a>'\n",
              "            + ' to learn more about interactive tables.';\n",
              "          element.innerHTML = '';\n",
              "          dataTable['output_type'] = 'display_data';\n",
              "          await google.colab.output.renderOutput(dataTable, element);\n",
              "          const docLink = document.createElement('div');\n",
              "          docLink.innerHTML = docLinkHtml;\n",
              "          element.appendChild(docLink);\n",
              "        }\n",
              "      </script>\n",
              "    </div>\n",
              "  </div>\n",
              "  "
            ]
          },
          "metadata": {},
          "execution_count": 22
        }
      ]
    },
    {
      "cell_type": "code",
      "source": [],
      "metadata": {
        "id": "jb7cUeI0LiAW"
      },
      "execution_count": null,
      "outputs": []
    },
    {
      "cell_type": "code",
      "source": [
        "df.iloc[:,-2]"
      ],
      "metadata": {
        "id": "cuxwkQPNxxfE",
        "colab": {
          "base_uri": "https://localhost:8080/"
        },
        "outputId": "10d8fb8e-092a-4117-fc38-c8cbb44cc71a"
      },
      "execution_count": null,
      "outputs": [
        {
          "output_type": "execute_result",
          "data": {
            "text/plain": [
              "0       111599\n",
              "1        44291\n",
              "2       514428\n",
              "3       363343\n",
              "4      4087700\n",
              "5       591844\n",
              "6       234156\n",
              "7        13378\n",
              "8        19705\n",
              "9       539677\n",
              "10      247211\n",
              "11       52843\n",
              "12       55755\n",
              "13      490996\n",
              "14      369131\n",
              "15      125540\n",
              "16       43478\n",
              "17      613983\n",
              "18      308921\n",
              "19      234156\n",
              "20      396007\n",
              "21      387969\n",
              "22      388949\n",
              "23      178469\n",
              "24       56640\n",
              "25      121200\n",
              "26       75074\n",
              "27       -1898\n",
              "28      281738\n",
              "29       62347\n",
              "30      500678\n",
              "31      309054\n",
              "32      752748\n",
              "33      476330\n",
              "34       19783\n",
              "35      661689\n",
              "36       -1507\n",
              "37      395506\n",
              "38      497068\n",
              "39       96340\n",
              "40      105060\n",
              "41        4334\n",
              "42      382584\n",
              "43      328624\n",
              "44       20153\n",
              "45       14516\n",
              "46       53387\n",
              "47      670960\n",
              "48      221101\n",
              "49       61366\n",
              "50       -3935\n",
              "51    16106157\n",
              "Name: Medicaid Enrollment Change (2013-2016), dtype: int64"
            ]
          },
          "metadata": {},
          "execution_count": 62
        }
      ]
    },
    {
      "cell_type": "markdown",
      "source": [
        "### How has the Affordable Care Act changed the rate of citizens with health insurance coverage?"
      ],
      "metadata": {
        "id": "Yd8HptWUx2s-"
      }
    },
    {
      "cell_type": "markdown",
      "source": [
        "### Which states observed the greatest decline in their uninsured rate?¶\n"
      ],
      "metadata": {
        "id": "mWrjNkeUyCIR"
      }
    },
    {
      "cell_type": "markdown",
      "source": [
        "### Did those states expand Medicaid program coverage and/or implement a health insurance marketplace?"
      ],
      "metadata": {
        "id": "A95743GdyNIL"
      }
    },
    {
      "cell_type": "code",
      "source": [
        "plt.figure(figsize = (10, 8))\n",
        "sns.barplot('Employer Health Insurance Coverage (2015)','State', data = df)"
      ],
      "metadata": {
        "colab": {
          "base_uri": "https://localhost:8080/",
          "height": 569
        },
        "id": "2kmvEe9Sxvt7",
        "outputId": "a08ed313-a198-44a6-82d0-5f4203337a34"
      },
      "execution_count": null,
      "outputs": [
        {
          "output_type": "stream",
          "name": "stderr",
          "text": [
            "/usr/local/lib/python3.7/dist-packages/seaborn/_decorators.py:43: FutureWarning: Pass the following variables as keyword args: x, y. From version 0.12, the only valid positional argument will be `data`, and passing other arguments without an explicit keyword will result in an error or misinterpretation.\n",
            "  FutureWarning\n"
          ]
        },
        {
          "output_type": "execute_result",
          "data": {
            "text/plain": [
              "<matplotlib.axes._subplots.AxesSubplot at 0x7f81d6d39450>"
            ]
          },
          "metadata": {},
          "execution_count": 23
        },
        {
          "output_type": "display_data",
          "data": {
            "text/plain": [
              "<Figure size 720x576 with 1 Axes>"
            ],
            "image/png": "[encoded data removed]"
          },
          "metadata": {
            "needs_background": "light"
          }
        }
      ]
    },
    {
      "cell_type": "code",
      "source": [
        "plt.figure(figsize = (10, 8))\n",
        "sns.scatterplot('Health Insurance Coverage Change (2010-2015)','State', data = df)"
      ],
      "metadata": {
        "colab": {
          "base_uri": "https://localhost:8080/",
          "height": 569
        },
        "id": "hS4urbrVwNHZ",
        "outputId": "a4c10003-e25d-41c7-df90-ebcb177888b4"
      },
      "execution_count": null,
      "outputs": [
        {
          "output_type": "stream",
          "name": "stderr",
          "text": [
            "/usr/local/lib/python3.7/dist-packages/seaborn/_decorators.py:43: FutureWarning: Pass the following variables as keyword args: x, y. From version 0.12, the only valid positional argument will be `data`, and passing other arguments without an explicit keyword will result in an error or misinterpretation.\n",
            "  FutureWarning\n"
          ]
        },
        {
          "output_type": "execute_result",
          "data": {
            "text/plain": [
              "<matplotlib.axes._subplots.AxesSubplot at 0x7f81d69d9610>"
            ]
          },
          "metadata": {},
          "execution_count": 24
        },
        {
          "output_type": "display_data",
          "data": {
            "text/plain": [
              "<Figure size 720x576 with 1 Axes>"
            ],
            "image/png": "[encoded data removed]"
          },
          "metadata": {
            "needs_background": "light"
          }
        }
      ]
    },
    {
      "cell_type": "markdown",
      "source": [
        "### In 2016, the Marketplace increase in health insurance is not due to State Medicaid expansion"
      ],
      "metadata": {
        "id": "9ADuIRWSywkL"
      }
    },
    {
      "cell_type": "code",
      "source": [
        "a_plot = sns.boxplot('State Medicaid Expansion (2016)','Marketplace Health Insurance Coverage (2016)', data = df)\n",
        "a_plot.set(xlim=(-1, 2))\n",
        "a_plot.set(ylim=(0,1000000))"
      ],
      "metadata": {
        "colab": {
          "base_uri": "https://localhost:8080/",
          "height": 362
        },
        "id": "FWGYiZmGwNNp",
        "outputId": "4c2b388c-6a30-4fef-ddf3-630645e8c404"
      },
      "execution_count": null,
      "outputs": [
        {
          "output_type": "stream",
          "name": "stderr",
          "text": [
            "/usr/local/lib/python3.7/dist-packages/seaborn/_decorators.py:43: FutureWarning: Pass the following variables as keyword args: x, y. From version 0.12, the only valid positional argument will be `data`, and passing other arguments without an explicit keyword will result in an error or misinterpretation.\n",
            "  FutureWarning\n"
          ]
        },
        {
          "output_type": "execute_result",
          "data": {
            "text/plain": [
              "[(0.0, 1000000.0)]"
            ]
          },
          "metadata": {},
          "execution_count": 25
        },
        {
          "output_type": "display_data",
          "data": {
            "text/plain": [
              "<Figure size 432x288 with 1 Axes>"
            ],
            "image/png": "[encoded data removed]"
          },
          "metadata": {
            "needs_background": "light"
          }
        }
      ]
    },
    {
      "cell_type": "markdown",
      "source": [
        "## Benford "
      ],
      "metadata": {
        "id": "f7JBVue4IJfP"
      }
    },
    {
      "cell_type": "code",
      "source": [
        "!pip install benfordslaw"
      ],
      "metadata": {
        "colab": {
          "base_uri": "https://localhost:8080/"
        },
        "id": "_PnvJZm5Iexs",
        "outputId": "8e23de65-0ee6-458c-a887-7c4e068628d9"
      },
      "execution_count": null,
      "outputs": [
        {
          "output_type": "stream",
          "name": "stdout",
          "text": [
            "Looking in indexes: https://pypi.org/simple, https://us-python.pkg.dev/colab-wheels/public/simple/\n",
            "Collecting benfordslaw\n",
            "  Downloading benfordslaw-1.2.1-py3-none-any.whl (10 kB)\n",
            "Requirement already satisfied: matplotlib in /usr/local/lib/python3.7/dist-packages (from benfordslaw) (3.2.2)\n",
            "Requirement already satisfied: numpy in /usr/local/lib/python3.7/dist-packages (from benfordslaw) (1.21.6)\n",
            "Requirement already satisfied: scipy in /usr/local/lib/python3.7/dist-packages (from benfordslaw) (1.7.3)\n",
            "Collecting wget\n",
            "  Downloading wget-3.2.zip (10 kB)\n",
            "Requirement already satisfied: pandas in /usr/local/lib/python3.7/dist-packages (from benfordslaw) (1.3.5)\n",
            "Requirement already satisfied: cycler>=0.10 in /usr/local/lib/python3.7/dist-packages (from matplotlib->benfordslaw) (0.11.0)\n",
            "Requirement already satisfied: kiwisolver>=1.0.1 in /usr/local/lib/python3.7/dist-packages (from matplotlib->benfordslaw) (1.4.4)\n",
            "Requirement already satisfied: pyparsing!=2.0.4,!=2.1.2,!=2.1.6,>=2.0.1 in /usr/local/lib/python3.7/dist-packages (from matplotlib->benfordslaw) (3.0.9)\n",
            "Requirement already satisfied: python-dateutil>=2.1 in /usr/local/lib/python3.7/dist-packages (from matplotlib->benfordslaw) (2.8.2)\n",
            "Requirement already satisfied: typing-extensions in /usr/local/lib/python3.7/dist-packages (from kiwisolver>=1.0.1->matplotlib->benfordslaw) (4.1.1)\n",
            "Requirement already satisfied: six>=1.5 in /usr/local/lib/python3.7/dist-packages (from python-dateutil>=2.1->matplotlib->benfordslaw) (1.15.0)\n",
            "Requirement already satisfied: pytz>=2017.3 in /usr/local/lib/python3.7/dist-packages (from pandas->benfordslaw) (2022.6)\n",
            "Building wheels for collected packages: wget\n",
            "  Building wheel for wget (setup.py) ... \u001b[?25l\u001b[?25hdone\n",
            "  Created wheel for wget: filename=wget-3.2-py3-none-any.whl size=9675 sha256=a2a56e4fa4885bc82d4b9b28880cd98a6bc1f7f2903a9fb0cf5e5d7581971958\n",
            "  Stored in directory: /root/.cache/pip/wheels/a1/b6/7c/0e63e34eb06634181c63adacca38b79ff8f35c37e3c13e3c02\n",
            "Successfully built wget\n",
            "Installing collected packages: wget, benfordslaw\n",
            "Successfully installed benfordslaw-1.2.1 wget-3.2\n"
          ]
        }
      ]
    },
    {
      "cell_type": "markdown",
      "source": [
        "### First digit test for Benfords Law"
      ],
      "metadata": {
        "id": "9rusn8b6MOoK"
      }
    },
    {
      "cell_type": "code",
      "source": [
        "from benfordslaw import benfordslaw\n",
        "\n",
        "# Initialize\n",
        "bl1 = benfordslaw(alpha=0.05)\n",
        "\n",
        "x = np.array(df.iloc[:,13].values)\n",
        "\n",
        "# Make fit\n",
        "first_digit = bl1.fit(x)\n",
        "\n",
        "# Plot\n",
        "bl1.plot(title='Medicare Enrollment (2016)')"
      ],
      "metadata": {
        "colab": {
          "base_uri": "https://localhost:8080/",
          "height": 611
        },
        "id": "rqRcJnRIIfGy",
        "outputId": "b9c54730-aa53-44bf-91f2-4d7a5bf3ea40"
      },
      "execution_count": null,
      "outputs": [
        {
          "output_type": "stream",
          "name": "stdout",
          "text": [
            "[benfordslaw] >Analyzing digit position: [1]\n",
            "[benfordslaw] >[chi2] No anomaly detected. P=0.432723, Tstat=8.00765\n"
          ]
        },
        {
          "output_type": "display_data",
          "data": {
            "text/plain": [
              "<Figure size 1080x576 with 1 Axes>"
            ],
            "image/png": "[encoded data removed]"
          },
          "metadata": {
            "needs_background": "light"
          }
        },
        {
          "output_type": "execute_result",
          "data": {
            "text/plain": [
              "(<Figure size 1080x576 with 1 Axes>,\n",
              " <matplotlib.axes._subplots.AxesSubplot at 0x7f81d76965d0>)"
            ]
          },
          "metadata": {},
          "execution_count": 27
        }
      ]
    },
    {
      "cell_type": "markdown",
      "source": [
        "### Second digit test for Benfords Law"
      ],
      "metadata": {
        "id": "Uom2qvqaQ1wX"
      }
    },
    {
      "cell_type": "code",
      "source": [
        "# Initialize\n",
        "bl2 = benfordslaw(pos=2)\n",
        "\n",
        "# Make fit\n",
        "sec_digit = bl2.fit(x)\n",
        "\n",
        "# Plot\n",
        "bl2.plot(title='Medicare Enrollment (2016) - Benfords Law Second Digit Test',\n",
        "         barcolor=[0.5, 0.5, 0.5], fontsize=12, barwidth=0.4)"
      ],
      "metadata": {
        "colab": {
          "base_uri": "https://localhost:8080/",
          "height": 603
        },
        "id": "luyPNeT_Ie3e",
        "outputId": "a6a82db8-fd17-4c93-c11b-9c1e4a1f984d"
      },
      "execution_count": null,
      "outputs": [
        {
          "output_type": "stream",
          "name": "stdout",
          "text": [
            "[benfordslaw] >Analyzing digit position: [2]\n",
            "[benfordslaw] >[chi2] No anomaly detected. P=0.284927, Tstat=10.8671\n"
          ]
        },
        {
          "output_type": "display_data",
          "data": {
            "text/plain": [
              "<Figure size 1080x576 with 1 Axes>"
            ],
            "image/png": "[encoded data removed]"
          },
          "metadata": {
            "needs_background": "light"
          }
        },
        {
          "output_type": "execute_result",
          "data": {
            "text/plain": [
              "(<Figure size 1080x576 with 1 Axes>,\n",
              " <matplotlib.axes._subplots.AxesSubplot at 0x7f81d5a5f750>)"
            ]
          },
          "metadata": {},
          "execution_count": 28
        }
      ]
    },
    {
      "cell_type": "markdown",
      "source": [
        "### Last digit test for Benfords Law"
      ],
      "metadata": {
        "id": "qJUtUxtCRRe2"
      }
    },
    {
      "cell_type": "code",
      "source": [
        "# Initialize\n",
        "bllast = benfordslaw(pos=-1)\n",
        "\n",
        "# Make fit\n",
        "last_digit = bllast.fit(x)\n",
        "\n",
        "# Plot\n",
        "bllast.plot(title='Medicare Enrollment (2016) - Benfords Law Last Digit Test')"
      ],
      "metadata": {
        "colab": {
          "base_uri": "https://localhost:8080/",
          "height": 611
        },
        "id": "iw-lTRT3Ie03",
        "outputId": "cd0a1159-81cb-4d1e-f3c6-092fe1bf6ca6"
      },
      "execution_count": null,
      "outputs": [
        {
          "output_type": "stream",
          "name": "stdout",
          "text": [
            "[benfordslaw] >Analyzing digit position: [-1]\n",
            "[benfordslaw] >[chi2] Anomaly detected! P=6.04212e-06, Tstat=38.5164\n"
          ]
        },
        {
          "output_type": "display_data",
          "data": {
            "text/plain": [
              "<Figure size 1080x576 with 1 Axes>"
            ],
            "image/png": "[encoded data removed]"
          },
          "metadata": {
            "needs_background": "light"
          }
        },
        {
          "output_type": "execute_result",
          "data": {
            "text/plain": [
              "(<Figure size 1080x576 with 1 Axes>,\n",
              " <matplotlib.axes._subplots.AxesSubplot at 0x7f81d59a6b90>)"
            ]
          },
          "metadata": {},
          "execution_count": 29
        }
      ]
    },
    {
      "cell_type": "markdown",
      "source": [
        "#### Benford Law for Second Last Digit "
      ],
      "metadata": {
        "id": "KE2uNUDqSLHO"
      }
    },
    {
      "cell_type": "code",
      "source": [
        "# Initialize\n",
        "blseclast = benfordslaw(pos=-2)\n",
        "\n",
        "# Make fit\n",
        "second_last_digit = blseclast.fit(x)\n",
        "\n",
        "# Plot\n",
        "blseclast.plot(title='Medicare Enrollment (2016) - Benfords Law Second Last Digit Test')"
      ],
      "metadata": {
        "colab": {
          "base_uri": "https://localhost:8080/",
          "height": 611
        },
        "id": "AdX18o0gSCTD",
        "outputId": "80f6d4b8-2609-4618-da07-6e64883bc95c"
      },
      "execution_count": null,
      "outputs": [
        {
          "output_type": "stream",
          "name": "stdout",
          "text": [
            "[benfordslaw] >Analyzing digit position: [-2]\n",
            "[benfordslaw] >[chi2] No anomaly detected. P=0.861338, Tstat=4.67909\n"
          ]
        },
        {
          "output_type": "display_data",
          "data": {
            "text/plain": [
              "<Figure size 1080x576 with 1 Axes>"
            ],
            "image/png": "[encoded data removed]"
          },
          "metadata": {
            "needs_background": "light"
          }
        },
        {
          "output_type": "execute_result",
          "data": {
            "text/plain": [
              "(<Figure size 1080x576 with 1 Axes>,\n",
              " <matplotlib.axes._subplots.AxesSubplot at 0x7f81d5947c10>)"
            ]
          },
          "metadata": {},
          "execution_count": 30
        }
      ]
    },
    {
      "cell_type": "markdown",
      "source": [
        "## Machine Learning Algorithms "
      ],
      "metadata": {
        "id": "9usBChn7Vn5s"
      }
    },
    {
      "cell_type": "markdown",
      "source": [
        "### Naive Bayes for Supervised Learning"
      ],
      "metadata": {
        "id": "cnXNB_udbyfH"
      }
    },
    {
      "cell_type": "code",
      "source": [
        "df.iloc[:,[4,5,6,7,10,11,12,13]]"
      ],
      "metadata": {
        "colab": {
          "base_uri": "https://localhost:8080/",
          "height": 1000
        },
        "id": "pY4-ZRIK0RFc",
        "outputId": "8aac0d4d-7e7d-4b19-d14d-177533b6be5f"
      },
      "execution_count": null,
      "outputs": [
        {
          "output_type": "execute_result",
          "data": {
            "text/plain": [
              "    Health Insurance Coverage Change (2010-2015)  \\\n",
              "0                                         215000   \n",
              "1                                          36000   \n",
              "2                                         410000   \n",
              "3                                         234000   \n",
              "4                                        3826000   \n",
              "5                                         419000   \n",
              "6                                         110000   \n",
              "7                                          35000   \n",
              "8                                          25000   \n",
              "9                                        1597000   \n",
              "10                                        581000   \n",
              "11                                         54000   \n",
              "12                                        109000   \n",
              "13                                        850000   \n",
              "14                                        339000   \n",
              "15                                        132000   \n",
              "16                                        137000   \n",
              "17                                        404000   \n",
              "18                                        269000   \n",
              "19                                         22000   \n",
              "20                                        278000   \n",
              "21                                        107000   \n",
              "22                                        618000   \n",
              "23                                        250000   \n",
              "24                                        161000   \n",
              "25                                        203000   \n",
              "26                                         58000   \n",
              "27                                         62000   \n",
              "28                                        294000   \n",
              "29                                         63000   \n",
              "30                                        398000   \n",
              "31                                        178000   \n",
              "32                                        939000   \n",
              "33                                        552000   \n",
              "34                                         15000   \n",
              "35                                        664000   \n",
              "36                                        192000   \n",
              "37                                        403000   \n",
              "38                                        479000   \n",
              "39                                         68000   \n",
              "40                                        317000   \n",
              "41                                         19000   \n",
              "42                                        266000   \n",
              "43                                       1781000   \n",
              "44                                        143000   \n",
              "45                                         26000   \n",
              "46                                        327000   \n",
              "47                                        537000   \n",
              "48                                        156000   \n",
              "49                                        211000   \n",
              "50                                         20000   \n",
              "51                                      19304000   \n",
              "\n",
              "    Employer Health Insurance Coverage (2015)  \\\n",
              "0                                     2545000   \n",
              "1                                      390000   \n",
              "2                                     3288000   \n",
              "3                                     1365000   \n",
              "4                                    19552000   \n",
              "5                                     2949000   \n",
              "6                                     2148000   \n",
              "7                                      564000   \n",
              "8                                      388000   \n",
              "9                                     8847000   \n",
              "10                                    5240000   \n",
              "11                                     867000   \n",
              "12                                     836000   \n",
              "13                                    7359000   \n",
              "14                                    3825000   \n",
              "15                                    1862000   \n",
              "16                                    1659000   \n",
              "17                                    2316000   \n",
              "18                                    2295000   \n",
              "19                                     702000   \n",
              "20                                    3700000   \n",
              "21                                    4232000   \n",
              "22                                    5876000   \n",
              "23                                    3319000   \n",
              "24                                    1326000   \n",
              "25                                    3389000   \n",
              "26                                     510000   \n",
              "27                                    1100000   \n",
              "28                                    1505000   \n",
              "29                                     853000   \n",
              "30                                    5450000   \n",
              "31                                     884000   \n",
              "32                                   10895000   \n",
              "33                                    4934000   \n",
              "34                                     450000   \n",
              "35                                    6831000   \n",
              "36                                    1948000   \n",
              "37                                    2070000   \n",
              "38                                    7502000   \n",
              "39                                     597000   \n",
              "40                                    2487000   \n",
              "41                                     449000   \n",
              "42                                    3369000   \n",
              "43                                   13709000   \n",
              "44                                    1897000   \n",
              "45                                     345000   \n",
              "46                                    4850000   \n",
              "47                                    3986000   \n",
              "48                                     976000   \n",
              "49                                    3521000   \n",
              "50                                     335000   \n",
              "51                                  172292000   \n",
              "\n",
              "    Marketplace Health Insurance Coverage (2016)  \\\n",
              "0                                         165534   \n",
              "1                                          17995   \n",
              "2                                         179445   \n",
              "3                                          63357   \n",
              "4                                        1415428   \n",
              "5                                         108311   \n",
              "6                                         102917   \n",
              "7                                          25379   \n",
              "8                                          17666   \n",
              "9                                        1531714   \n",
              "10                                        478016   \n",
              "11                                         13313   \n",
              "12                                         94270   \n",
              "13                                        335243   \n",
              "14                                        168884   \n",
              "15                                         48949   \n",
              "16                                         89566   \n",
              "17                                         74640   \n",
              "18                                        184403   \n",
              "19                                         75240   \n",
              "20                                        135208   \n",
              "21                                        207121   \n",
              "22                                        313123   \n",
              "23                                         74060   \n",
              "24                                         77747   \n",
              "25                                        252044   \n",
              "26                                         51758   \n",
              "27                                         80213   \n",
              "28                                         79876   \n",
              "29                                         49114   \n",
              "30                                        249395   \n",
              "31                                         47497   \n",
              "32                                        224014   \n",
              "33                                        545354   \n",
              "34                                         20536   \n",
              "35                                        212046   \n",
              "36                                        130178   \n",
              "37                                        131167   \n",
              "38                                        412347   \n",
              "39                                         35583   \n",
              "40                                        204846   \n",
              "41                                         24578   \n",
              "42                                        231705   \n",
              "43                                       1092650   \n",
              "44                                        164415   \n",
              "45                                         27883   \n",
              "46                                        378838   \n",
              "47                                        158245   \n",
              "48                                         33235   \n",
              "49                                        224208   \n",
              "50                                         22076   \n",
              "51                                      11081330   \n",
              "\n",
              "    Marketplace Tax Credits (2016)  Medicaid Enrollment (2013)  \\\n",
              "0                           152206                      799176   \n",
              "1                            16205                      122334   \n",
              "2                           124346                     1201770   \n",
              "3                            56843                      556851   \n",
              "4                          1239893                     7755381   \n",
              "5                            67062                      783420   \n",
              "6                            80759                      794613   \n",
              "7                            21467                      223324   \n",
              "8                             1224                      235786   \n",
              "9                          1428712                     3104996   \n",
              "10                          427353                     1535090   \n",
              "11                           10958                      288357   \n",
              "12                           82802                      238150   \n",
              "13                          259701                     2626943   \n",
              "14                          139437                     1120674   \n",
              "15                           42595                      493515   \n",
              "16                           75815                      378160   \n",
              "17                           56488                      606805   \n",
              "18                          170806                     1019787   \n",
              "19                           63896                      794613   \n",
              "20                          100844                      856297   \n",
              "21                          157751                     1296359   \n",
              "22                          275080                     1912009   \n",
              "23                           47266                      873040   \n",
              "24                           73246                      637229   \n",
              "25                          225878                      846084   \n",
              "26                           44091                      148974   \n",
              "27                           72091                      244600   \n",
              "28                           71472                      332560   \n",
              "29                           31151                      127082   \n",
              "30                          205242                     1283851   \n",
              "31                           32703                      457678   \n",
              "32                          123830                     5678417   \n",
              "33                          499178                     1595952   \n",
              "34                           17630                       69980   \n",
              "35                          174448                     2341481   \n",
              "36                          113209                      790051   \n",
              "37                           95507                      626356   \n",
              "38                          321345                     2386046   \n",
              "39                           30015                      190833   \n",
              "40                          186345                      889744   \n",
              "41                           22005                      115501   \n",
              "42                          203112                     1244516   \n",
              "43                          913177                     4441605   \n",
              "44                          145288                      294029   \n",
              "45                           19575                      161081   \n",
              "46                          319068                      935434   \n",
              "47                          110476                     1117576   \n",
              "48                           29163                      354544   \n",
              "49                          190542                      985531   \n",
              "50                           20313                       67518   \n",
              "51                         9389609                    56392477   \n",
              "\n",
              "    Medicaid Enrollment (2016)  Medicaid Enrollment Change (2013-2016)  \\\n",
              "0                       910775                                  111599   \n",
              "1                       166625                                   44291   \n",
              "2                      1716198                                  514428   \n",
              "3                       920194                                  363343   \n",
              "4                     11843081                                 4087700   \n",
              "5                      1375264                                  591844   \n",
              "6                       761137                                  234156   \n",
              "7                       236702                                   13378   \n",
              "8                       255491                                   19705   \n",
              "9                      3644673                                  539677   \n",
              "10                     1782301                                  247211   \n",
              "11                      341200                                   52843   \n",
              "12                      293905                                   55755   \n",
              "13                     3117939                                  490996   \n",
              "14                     1489805                                  369131   \n",
              "15                      619055                                  125540   \n",
              "16                      421638                                   43478   \n",
              "17                     1220788                                  613983   \n",
              "18                     1328708                                  308921   \n",
              "19                      273160                                  234156   \n",
              "20                     1252304                                  396007   \n",
              "21                     1684328                                  387969   \n",
              "22                     2300958                                  388949   \n",
              "23                     1051509                                  178469   \n",
              "24                      693869                                   56640   \n",
              "25                      967284                                  121200   \n",
              "26                      224048                                   75074   \n",
              "27                      242702                                   -1898   \n",
              "28                      614298                                  281738   \n",
              "29                      189429                                   62347   \n",
              "30                     1784529                                  500678   \n",
              "31                      766732                                  309054   \n",
              "32                     6431165                                  752748   \n",
              "33                     2072282                                  476330   \n",
              "34                       89763                                   19783   \n",
              "35                     3003170                                  661689   \n",
              "36                      788544                                   -1507   \n",
              "37                     1021862                                  395506   \n",
              "38                     2883114                                  497068   \n",
              "39                      287173                                   96340   \n",
              "40                      994804                                  105060   \n",
              "41                      119835                                    4334   \n",
              "42                     1627100                                  382584   \n",
              "43                     4770229                                  328624   \n",
              "44                      314182                                   20153   \n",
              "45                      175597                                   14516   \n",
              "46                      988821                                   53387   \n",
              "47                     1788536                                  670960   \n",
              "48                      575645                                  221101   \n",
              "49                     1046897                                   61366   \n",
              "50                       63583                                   -3935   \n",
              "51                    73532931                                16106157   \n",
              "\n",
              "    Medicare Enrollment (2016)  \n",
              "0                       989855  \n",
              "1                        88966  \n",
              "2                      1175624  \n",
              "3                       606146  \n",
              "4                      5829777  \n",
              "5                       820234  \n",
              "6                       644136  \n",
              "7                       186835  \n",
              "8                        90492  \n",
              "9                      4149593  \n",
              "10                     1574058  \n",
              "11                      252514  \n",
              "12                      294284  \n",
              "13                     2118300  \n",
              "14                     1181014  \n",
              "15                      587780  \n",
              "16                      499753  \n",
              "17                      881938  \n",
              "18                      817272  \n",
              "19                      315160  \n",
              "20                      960848  \n",
              "21                     1252277  \n",
              "22                     1947787  \n",
              "23                      944222  \n",
              "24                      571699  \n",
              "25                     1163543  \n",
              "26                      209389  \n",
              "27                      322796  \n",
              "28                      471747  \n",
              "29                      275803  \n",
              "30                     1528961  \n",
              "31                      385918  \n",
              "32                     3424666  \n",
              "33                     1823454  \n",
              "34                      122294  \n",
              "35                     2208504  \n",
              "36                      693677  \n",
              "37                      784032  \n",
              "38                     2588577  \n",
              "39                      208324  \n",
              "40                      974114  \n",
              "41                      161464  \n",
              "42                     1266920  \n",
              "43                     3765946  \n",
              "44                      358887  \n",
              "45                      136021  \n",
              "46                     1392261  \n",
              "47                     1238649  \n",
              "48                      423500  \n",
              "49                     1084854  \n",
              "50                       99128  \n",
              "51                    57149984  "
            ],
            "text/html": [
              "\n",
              "  <div id=\"df-9d3e2eeb-bcad-4147-ac04-3727891ee8e2\">\n",
              "    <div class=\"colab-df-container\">\n",
              "      <div>\n",
              "<style scoped>\n",
              "    .dataframe tbody tr th:only-of-type {\n",
              "        vertical-align: middle;\n",
              "    }\n",
              "\n",
              "    .dataframe tbody tr th {\n",
              "        vertical-align: top;\n",
              "    }\n",
              "\n",
              "    .dataframe thead th {\n",
              "        text-align: right;\n",
              "    }\n",
              "</style>\n",
              "<table border=\"1\" class=\"dataframe\">\n",
              "  <thead>\n",
              "    <tr style=\"text-align: right;\">\n",
              "      <th></th>\n",
              "      <th>Health Insurance Coverage Change (2010-2015)</th>\n",
              "      <th>Employer Health Insurance Coverage (2015)</th>\n",
              "      <th>Marketplace Health Insurance Coverage (2016)</th>\n",
              "      <th>Marketplace Tax Credits (2016)</th>\n",
              "      <th>Medicaid Enrollment (2013)</th>\n",
              "      <th>Medicaid Enrollment (2016)</th>\n",
              "      <th>Medicaid Enrollment Change (2013-2016)</th>\n",
              "      <th>Medicare Enrollment (2016)</th>\n",
              "    </tr>\n",
              "  </thead>\n",
              "  <tbody>\n",
              "    <tr>\n",
              "      <th>0</th>\n",
              "      <td>215000</td>\n",
              "      <td>2545000</td>\n",
              "      <td>165534</td>\n",
              "      <td>152206</td>\n",
              "      <td>799176</td>\n",
              "      <td>910775</td>\n",
              "      <td>111599</td>\n",
              "      <td>989855</td>\n",
              "    </tr>\n",
              "    <tr>\n",
              "      <th>1</th>\n",
              "      <td>36000</td>\n",
              "      <td>390000</td>\n",
              "      <td>17995</td>\n",
              "      <td>16205</td>\n",
              "      <td>122334</td>\n",
              "      <td>166625</td>\n",
              "      <td>44291</td>\n",
              "      <td>88966</td>\n",
              "    </tr>\n",
              "    <tr>\n",
              "      <th>2</th>\n",
              "      <td>410000</td>\n",
              "      <td>3288000</td>\n",
              "      <td>179445</td>\n",
              "      <td>124346</td>\n",
              "      <td>1201770</td>\n",
              "      <td>1716198</td>\n",
              "      <td>514428</td>\n",
              "      <td>1175624</td>\n",
              "    </tr>\n",
              "    <tr>\n",
              "      <th>3</th>\n",
              "      <td>234000</td>\n",
              "      <td>1365000</td>\n",
              "      <td>63357</td>\n",
              "      <td>56843</td>\n",
              "      <td>556851</td>\n",
              "      <td>920194</td>\n",
              "      <td>363343</td>\n",
              "      <td>606146</td>\n",
              "    </tr>\n",
              "    <tr>\n",
              "      <th>4</th>\n",
              "      <td>3826000</td>\n",
              "      <td>19552000</td>\n",
              "      <td>1415428</td>\n",
              "      <td>1239893</td>\n",
              "      <td>7755381</td>\n",
              "      <td>11843081</td>\n",
              "      <td>4087700</td>\n",
              "      <td>5829777</td>\n",
              "    </tr>\n",
              "    <tr>\n",
              "      <th>5</th>\n",
              "      <td>419000</td>\n",
              "      <td>2949000</td>\n",
              "      <td>108311</td>\n",
              "      <td>67062</td>\n",
              "      <td>783420</td>\n",
              "      <td>1375264</td>\n",
              "      <td>591844</td>\n",
              "      <td>820234</td>\n",
              "    </tr>\n",
              "    <tr>\n",
              "      <th>6</th>\n",
              "      <td>110000</td>\n",
              "      <td>2148000</td>\n",
              "      <td>102917</td>\n",
              "      <td>80759</td>\n",
              "      <td>794613</td>\n",
              "      <td>761137</td>\n",
              "      <td>234156</td>\n",
              "      <td>644136</td>\n",
              "    </tr>\n",
              "    <tr>\n",
              "      <th>7</th>\n",
              "      <td>35000</td>\n",
              "      <td>564000</td>\n",
              "      <td>25379</td>\n",
              "      <td>21467</td>\n",
              "      <td>223324</td>\n",
              "      <td>236702</td>\n",
              "      <td>13378</td>\n",
              "      <td>186835</td>\n",
              "    </tr>\n",
              "    <tr>\n",
              "      <th>8</th>\n",
              "      <td>25000</td>\n",
              "      <td>388000</td>\n",
              "      <td>17666</td>\n",
              "      <td>1224</td>\n",
              "      <td>235786</td>\n",
              "      <td>255491</td>\n",
              "      <td>19705</td>\n",
              "      <td>90492</td>\n",
              "    </tr>\n",
              "    <tr>\n",
              "      <th>9</th>\n",
              "      <td>1597000</td>\n",
              "      <td>8847000</td>\n",
              "      <td>1531714</td>\n",
              "      <td>1428712</td>\n",
              "      <td>3104996</td>\n",
              "      <td>3644673</td>\n",
              "      <td>539677</td>\n",
              "      <td>4149593</td>\n",
              "    </tr>\n",
              "    <tr>\n",
              "      <th>10</th>\n",
              "      <td>581000</td>\n",
              "      <td>5240000</td>\n",
              "      <td>478016</td>\n",
              "      <td>427353</td>\n",
              "      <td>1535090</td>\n",
              "      <td>1782301</td>\n",
              "      <td>247211</td>\n",
              "      <td>1574058</td>\n",
              "    </tr>\n",
              "    <tr>\n",
              "      <th>11</th>\n",
              "      <td>54000</td>\n",
              "      <td>867000</td>\n",
              "      <td>13313</td>\n",
              "      <td>10958</td>\n",
              "      <td>288357</td>\n",
              "      <td>341200</td>\n",
              "      <td>52843</td>\n",
              "      <td>252514</td>\n",
              "    </tr>\n",
              "    <tr>\n",
              "      <th>12</th>\n",
              "      <td>109000</td>\n",
              "      <td>836000</td>\n",
              "      <td>94270</td>\n",
              "      <td>82802</td>\n",
              "      <td>238150</td>\n",
              "      <td>293905</td>\n",
              "      <td>55755</td>\n",
              "      <td>294284</td>\n",
              "    </tr>\n",
              "    <tr>\n",
              "      <th>13</th>\n",
              "      <td>850000</td>\n",
              "      <td>7359000</td>\n",
              "      <td>335243</td>\n",
              "      <td>259701</td>\n",
              "      <td>2626943</td>\n",
              "      <td>3117939</td>\n",
              "      <td>490996</td>\n",
              "      <td>2118300</td>\n",
              "    </tr>\n",
              "    <tr>\n",
              "      <th>14</th>\n",
              "      <td>339000</td>\n",
              "      <td>3825000</td>\n",
              "      <td>168884</td>\n",
              "      <td>139437</td>\n",
              "      <td>1120674</td>\n",
              "      <td>1489805</td>\n",
              "      <td>369131</td>\n",
              "      <td>1181014</td>\n",
              "    </tr>\n",
              "    <tr>\n",
              "      <th>15</th>\n",
              "      <td>132000</td>\n",
              "      <td>1862000</td>\n",
              "      <td>48949</td>\n",
              "      <td>42595</td>\n",
              "      <td>493515</td>\n",
              "      <td>619055</td>\n",
              "      <td>125540</td>\n",
              "      <td>587780</td>\n",
              "    </tr>\n",
              "    <tr>\n",
              "      <th>16</th>\n",
              "      <td>137000</td>\n",
              "      <td>1659000</td>\n",
              "      <td>89566</td>\n",
              "      <td>75815</td>\n",
              "      <td>378160</td>\n",
              "      <td>421638</td>\n",
              "      <td>43478</td>\n",
              "      <td>499753</td>\n",
              "    </tr>\n",
              "    <tr>\n",
              "      <th>17</th>\n",
              "      <td>404000</td>\n",
              "      <td>2316000</td>\n",
              "      <td>74640</td>\n",
              "      <td>56488</td>\n",
              "      <td>606805</td>\n",
              "      <td>1220788</td>\n",
              "      <td>613983</td>\n",
              "      <td>881938</td>\n",
              "    </tr>\n",
              "    <tr>\n",
              "      <th>18</th>\n",
              "      <td>269000</td>\n",
              "      <td>2295000</td>\n",
              "      <td>184403</td>\n",
              "      <td>170806</td>\n",
              "      <td>1019787</td>\n",
              "      <td>1328708</td>\n",
              "      <td>308921</td>\n",
              "      <td>817272</td>\n",
              "    </tr>\n",
              "    <tr>\n",
              "      <th>19</th>\n",
              "      <td>22000</td>\n",
              "      <td>702000</td>\n",
              "      <td>75240</td>\n",
              "      <td>63896</td>\n",
              "      <td>794613</td>\n",
              "      <td>273160</td>\n",
              "      <td>234156</td>\n",
              "      <td>315160</td>\n",
              "    </tr>\n",
              "    <tr>\n",
              "      <th>20</th>\n",
              "      <td>278000</td>\n",
              "      <td>3700000</td>\n",
              "      <td>135208</td>\n",
              "      <td>100844</td>\n",
              "      <td>856297</td>\n",
              "      <td>1252304</td>\n",
              "      <td>396007</td>\n",
              "      <td>960848</td>\n",
              "    </tr>\n",
              "    <tr>\n",
              "      <th>21</th>\n",
              "      <td>107000</td>\n",
              "      <td>4232000</td>\n",
              "      <td>207121</td>\n",
              "      <td>157751</td>\n",
              "      <td>1296359</td>\n",
              "      <td>1684328</td>\n",
              "      <td>387969</td>\n",
              "      <td>1252277</td>\n",
              "    </tr>\n",
              "    <tr>\n",
              "      <th>22</th>\n",
              "      <td>618000</td>\n",
              "      <td>5876000</td>\n",
              "      <td>313123</td>\n",
              "      <td>275080</td>\n",
              "      <td>1912009</td>\n",
              "      <td>2300958</td>\n",
              "      <td>388949</td>\n",
              "      <td>1947787</td>\n",
              "    </tr>\n",
              "    <tr>\n",
              "      <th>23</th>\n",
              "      <td>250000</td>\n",
              "      <td>3319000</td>\n",
              "      <td>74060</td>\n",
              "      <td>47266</td>\n",
              "      <td>873040</td>\n",
              "      <td>1051509</td>\n",
              "      <td>178469</td>\n",
              "      <td>944222</td>\n",
              "    </tr>\n",
              "    <tr>\n",
              "      <th>24</th>\n",
              "      <td>161000</td>\n",
              "      <td>1326000</td>\n",
              "      <td>77747</td>\n",
              "      <td>73246</td>\n",
              "      <td>637229</td>\n",
              "      <td>693869</td>\n",
              "      <td>56640</td>\n",
              "      <td>571699</td>\n",
              "    </tr>\n",
              "    <tr>\n",
              "      <th>25</th>\n",
              "      <td>203000</td>\n",
              "      <td>3389000</td>\n",
              "      <td>252044</td>\n",
              "      <td>225878</td>\n",
              "      <td>846084</td>\n",
              "      <td>967284</td>\n",
              "      <td>121200</td>\n",
              "      <td>1163543</td>\n",
              "    </tr>\n",
              "    <tr>\n",
              "      <th>26</th>\n",
              "      <td>58000</td>\n",
              "      <td>510000</td>\n",
              "      <td>51758</td>\n",
              "      <td>44091</td>\n",
              "      <td>148974</td>\n",
              "      <td>224048</td>\n",
              "      <td>75074</td>\n",
              "      <td>209389</td>\n",
              "    </tr>\n",
              "    <tr>\n",
              "      <th>27</th>\n",
              "      <td>62000</td>\n",
              "      <td>1100000</td>\n",
              "      <td>80213</td>\n",
              "      <td>72091</td>\n",
              "      <td>244600</td>\n",
              "      <td>242702</td>\n",
              "      <td>-1898</td>\n",
              "      <td>322796</td>\n",
              "    </tr>\n",
              "    <tr>\n",
              "      <th>28</th>\n",
              "      <td>294000</td>\n",
              "      <td>1505000</td>\n",
              "      <td>79876</td>\n",
              "      <td>71472</td>\n",
              "      <td>332560</td>\n",
              "      <td>614298</td>\n",
              "      <td>281738</td>\n",
              "      <td>471747</td>\n",
              "    </tr>\n",
              "    <tr>\n",
              "      <th>29</th>\n",
              "      <td>63000</td>\n",
              "      <td>853000</td>\n",
              "      <td>49114</td>\n",
              "      <td>31151</td>\n",
              "      <td>127082</td>\n",
              "      <td>189429</td>\n",
              "      <td>62347</td>\n",
              "      <td>275803</td>\n",
              "    </tr>\n",
              "    <tr>\n",
              "      <th>30</th>\n",
              "      <td>398000</td>\n",
              "      <td>5450000</td>\n",
              "      <td>249395</td>\n",
              "      <td>205242</td>\n",
              "      <td>1283851</td>\n",
              "      <td>1784529</td>\n",
              "      <td>500678</td>\n",
              "      <td>1528961</td>\n",
              "    </tr>\n",
              "    <tr>\n",
              "      <th>31</th>\n",
              "      <td>178000</td>\n",
              "      <td>884000</td>\n",
              "      <td>47497</td>\n",
              "      <td>32703</td>\n",
              "      <td>457678</td>\n",
              "      <td>766732</td>\n",
              "      <td>309054</td>\n",
              "      <td>385918</td>\n",
              "    </tr>\n",
              "    <tr>\n",
              "      <th>32</th>\n",
              "      <td>939000</td>\n",
              "      <td>10895000</td>\n",
              "      <td>224014</td>\n",
              "      <td>123830</td>\n",
              "      <td>5678417</td>\n",
              "      <td>6431165</td>\n",
              "      <td>752748</td>\n",
              "      <td>3424666</td>\n",
              "    </tr>\n",
              "    <tr>\n",
              "      <th>33</th>\n",
              "      <td>552000</td>\n",
              "      <td>4934000</td>\n",
              "      <td>545354</td>\n",
              "      <td>499178</td>\n",
              "      <td>1595952</td>\n",
              "      <td>2072282</td>\n",
              "      <td>476330</td>\n",
              "      <td>1823454</td>\n",
              "    </tr>\n",
              "    <tr>\n",
              "      <th>34</th>\n",
              "      <td>15000</td>\n",
              "      <td>450000</td>\n",
              "      <td>20536</td>\n",
              "      <td>17630</td>\n",
              "      <td>69980</td>\n",
              "      <td>89763</td>\n",
              "      <td>19783</td>\n",
              "      <td>122294</td>\n",
              "    </tr>\n",
              "    <tr>\n",
              "      <th>35</th>\n",
              "      <td>664000</td>\n",
              "      <td>6831000</td>\n",
              "      <td>212046</td>\n",
              "      <td>174448</td>\n",
              "      <td>2341481</td>\n",
              "      <td>3003170</td>\n",
              "      <td>661689</td>\n",
              "      <td>2208504</td>\n",
              "    </tr>\n",
              "    <tr>\n",
              "      <th>36</th>\n",
              "      <td>192000</td>\n",
              "      <td>1948000</td>\n",
              "      <td>130178</td>\n",
              "      <td>113209</td>\n",
              "      <td>790051</td>\n",
              "      <td>788544</td>\n",
              "      <td>-1507</td>\n",
              "      <td>693677</td>\n",
              "    </tr>\n",
              "    <tr>\n",
              "      <th>37</th>\n",
              "      <td>403000</td>\n",
              "      <td>2070000</td>\n",
              "      <td>131167</td>\n",
              "      <td>95507</td>\n",
              "      <td>626356</td>\n",
              "      <td>1021862</td>\n",
              "      <td>395506</td>\n",
              "      <td>784032</td>\n",
              "    </tr>\n",
              "    <tr>\n",
              "      <th>38</th>\n",
              "      <td>479000</td>\n",
              "      <td>7502000</td>\n",
              "      <td>412347</td>\n",
              "      <td>321345</td>\n",
              "      <td>2386046</td>\n",
              "      <td>2883114</td>\n",
              "      <td>497068</td>\n",
              "      <td>2588577</td>\n",
              "    </tr>\n",
              "    <tr>\n",
              "      <th>39</th>\n",
              "      <td>68000</td>\n",
              "      <td>597000</td>\n",
              "      <td>35583</td>\n",
              "      <td>30015</td>\n",
              "      <td>190833</td>\n",
              "      <td>287173</td>\n",
              "      <td>96340</td>\n",
              "      <td>208324</td>\n",
              "    </tr>\n",
              "    <tr>\n",
              "      <th>40</th>\n",
              "      <td>317000</td>\n",
              "      <td>2487000</td>\n",
              "      <td>204846</td>\n",
              "      <td>186345</td>\n",
              "      <td>889744</td>\n",
              "      <td>994804</td>\n",
              "      <td>105060</td>\n",
              "      <td>974114</td>\n",
              "    </tr>\n",
              "    <tr>\n",
              "      <th>41</th>\n",
              "      <td>19000</td>\n",
              "      <td>449000</td>\n",
              "      <td>24578</td>\n",
              "      <td>22005</td>\n",
              "      <td>115501</td>\n",
              "      <td>119835</td>\n",
              "      <td>4334</td>\n",
              "      <td>161464</td>\n",
              "    </tr>\n",
              "    <tr>\n",
              "      <th>42</th>\n",
              "      <td>266000</td>\n",
              "      <td>3369000</td>\n",
              "      <td>231705</td>\n",
              "      <td>203112</td>\n",
              "      <td>1244516</td>\n",
              "      <td>1627100</td>\n",
              "      <td>382584</td>\n",
              "      <td>1266920</td>\n",
              "    </tr>\n",
              "    <tr>\n",
              "      <th>43</th>\n",
              "      <td>1781000</td>\n",
              "      <td>13709000</td>\n",
              "      <td>1092650</td>\n",
              "      <td>913177</td>\n",
              "      <td>4441605</td>\n",
              "      <td>4770229</td>\n",
              "      <td>328624</td>\n",
              "      <td>3765946</td>\n",
              "    </tr>\n",
              "    <tr>\n",
              "      <th>44</th>\n",
              "      <td>143000</td>\n",
              "      <td>1897000</td>\n",
              "      <td>164415</td>\n",
              "      <td>145288</td>\n",
              "      <td>294029</td>\n",
              "      <td>314182</td>\n",
              "      <td>20153</td>\n",
              "      <td>358887</td>\n",
              "    </tr>\n",
              "    <tr>\n",
              "      <th>45</th>\n",
              "      <td>26000</td>\n",
              "      <td>345000</td>\n",
              "      <td>27883</td>\n",
              "      <td>19575</td>\n",
              "      <td>161081</td>\n",
              "      <td>175597</td>\n",
              "      <td>14516</td>\n",
              "      <td>136021</td>\n",
              "    </tr>\n",
              "    <tr>\n",
              "      <th>46</th>\n",
              "      <td>327000</td>\n",
              "      <td>4850000</td>\n",
              "      <td>378838</td>\n",
              "      <td>319068</td>\n",
              "      <td>935434</td>\n",
              "      <td>988821</td>\n",
              "      <td>53387</td>\n",
              "      <td>1392261</td>\n",
              "    </tr>\n",
              "    <tr>\n",
              "      <th>47</th>\n",
              "      <td>537000</td>\n",
              "      <td>3986000</td>\n",
              "      <td>158245</td>\n",
              "      <td>110476</td>\n",
              "      <td>1117576</td>\n",
              "      <td>1788536</td>\n",
              "      <td>670960</td>\n",
              "      <td>1238649</td>\n",
              "    </tr>\n",
              "    <tr>\n",
              "      <th>48</th>\n",
              "      <td>156000</td>\n",
              "      <td>976000</td>\n",
              "      <td>33235</td>\n",
              "      <td>29163</td>\n",
              "      <td>354544</td>\n",
              "      <td>575645</td>\n",
              "      <td>221101</td>\n",
              "      <td>423500</td>\n",
              "    </tr>\n",
              "    <tr>\n",
              "      <th>49</th>\n",
              "      <td>211000</td>\n",
              "      <td>3521000</td>\n",
              "      <td>224208</td>\n",
              "      <td>190542</td>\n",
              "      <td>985531</td>\n",
              "      <td>1046897</td>\n",
              "      <td>61366</td>\n",
              "      <td>1084854</td>\n",
              "    </tr>\n",
              "    <tr>\n",
              "      <th>50</th>\n",
              "      <td>20000</td>\n",
              "      <td>335000</td>\n",
              "      <td>22076</td>\n",
              "      <td>20313</td>\n",
              "      <td>67518</td>\n",
              "      <td>63583</td>\n",
              "      <td>-3935</td>\n",
              "      <td>99128</td>\n",
              "    </tr>\n",
              "    <tr>\n",
              "      <th>51</th>\n",
              "      <td>19304000</td>\n",
              "      <td>172292000</td>\n",
              "      <td>11081330</td>\n",
              "      <td>9389609</td>\n",
              "      <td>56392477</td>\n",
              "      <td>73532931</td>\n",
              "      <td>16106157</td>\n",
              "      <td>57149984</td>\n",
              "    </tr>\n",
              "  </tbody>\n",
              "</table>\n",
              "</div>\n",
              "      <button class=\"colab-df-convert\" onclick=\"convertToInteractive('df-9d3e2eeb-bcad-4147-ac04-3727891ee8e2')\"\n",
              "              title=\"Convert this dataframe to an interactive table.\"\n",
              "              style=\"display:none;\">\n",
              "        \n",
              "  <svg xmlns=\"http://www.w3.org/2000/svg\" height=\"24px\"viewBox=\"0 0 24 24\"\n",
              "       width=\"24px\">\n",
              "    <path d=\"M0 0h24v24H0V0z\" fill=\"none\"/>\n",
              "    <path d=\"M18.56 5.44l.94 2.06.94-2.06 2.06-.94-2.06-.94-.94-2.06-.94 2.06-2.06.94zm-11 1L8.5 8.5l.94-2.06 2.06-.94-2.06-.94L8.5 2.5l-.94 2.06-2.06.94zm10 10l.94 2.06.94-2.06 2.06-.94-2.06-.94-.94-2.06-.94 2.06-2.06.94z\"/><path d=\"M17.41 7.96l-1.37-1.37c-.4-.4-.92-.59-1.43-.59-.52 0-1.04.2-1.43.59L10.3 9.45l-7.72 7.72c-.78.78-.78 2.05 0 2.83L4 21.41c.39.39.9.59 1.41.59.51 0 1.02-.2 1.41-.59l7.78-7.78 2.81-2.81c.8-.78.8-2.07 0-2.86zM5.41 20L4 18.59l7.72-7.72 1.47 1.35L5.41 20z\"/>\n",
              "  </svg>\n",
              "      </button>\n",
              "      \n",
              "  <style>\n",
              "    .colab-df-container {\n",
              "      display:flex;\n",
              "      flex-wrap:wrap;\n",
              "      gap: 12px;\n",
              "    }\n",
              "\n",
              "    .colab-df-convert {\n",
              "      background-color: #E8F0FE;\n",
              "      border: none;\n",
              "      border-radius: 50%;\n",
              "      cursor: pointer;\n",
              "      display: none;\n",
              "      fill: #1967D2;\n",
              "      height: 32px;\n",
              "      padding: 0 0 0 0;\n",
              "      width: 32px;\n",
              "    }\n",
              "\n",
              "    .colab-df-convert:hover {\n",
              "      background-color: #E2EBFA;\n",
              "      box-shadow: 0px 1px 2px rgba(60, 64, 67, 0.3), 0px 1px 3px 1px rgba(60, 64, 67, 0.15);\n",
              "      fill: #174EA6;\n",
              "    }\n",
              "\n",
              "    [theme=dark] .colab-df-convert {\n",
              "      background-color: #3B4455;\n",
              "      fill: #D2E3FC;\n",
              "    }\n",
              "\n",
              "    [theme=dark] .colab-df-convert:hover {\n",
              "      background-color: #434B5C;\n",
              "      box-shadow: 0px 1px 3px 1px rgba(0, 0, 0, 0.15);\n",
              "      filter: drop-shadow(0px 1px 2px rgba(0, 0, 0, 0.3));\n",
              "      fill: #FFFFFF;\n",
              "    }\n",
              "  </style>\n",
              "\n",
              "      <script>\n",
              "        const buttonEl =\n",
              "          document.querySelector('#df-9d3e2eeb-bcad-4147-ac04-3727891ee8e2 button.colab-df-convert');\n",
              "        buttonEl.style.display =\n",
              "          google.colab.kernel.accessAllowed ? 'block' : 'none';\n",
              "\n",
              "        async function convertToInteractive(key) {\n",
              "          const element = document.querySelector('#df-9d3e2eeb-bcad-4147-ac04-3727891ee8e2');\n",
              "          const dataTable =\n",
              "            await google.colab.kernel.invokeFunction('convertToInteractive',\n",
              "                                                     [key], {});\n",
              "          if (!dataTable) return;\n",
              "\n",
              "          const docLinkHtml = 'Like what you see? Visit the ' +\n",
              "            '<a target=\"_blank\" href=https://colab.research.google.com/notebooks/data_table.ipynb>data table notebook</a>'\n",
              "            + ' to learn more about interactive tables.';\n",
              "          element.innerHTML = '';\n",
              "          dataTable['output_type'] = 'display_data';\n",
              "          await google.colab.output.renderOutput(dataTable, element);\n",
              "          const docLink = document.createElement('div');\n",
              "          docLink.innerHTML = docLinkHtml;\n",
              "          element.appendChild(docLink);\n",
              "        }\n",
              "      </script>\n",
              "    </div>\n",
              "  </div>\n",
              "  "
            ]
          },
          "metadata": {},
          "execution_count": 31
        }
      ]
    },
    {
      "cell_type": "code",
      "source": [
        "from sklearn.preprocessing import LabelEncoder\n",
        "\n",
        "le = LabelEncoder()\n",
        "\n",
        "x = df.iloc[:,[4,5,6,7,10,11,12,13]].values\n",
        "\n",
        "y = le.fit_transform(df.iloc[:,9])\n",
        "\n",
        "y\n"
      ],
      "metadata": {
        "colab": {
          "base_uri": "https://localhost:8080/"
        },
        "id": "Ww7N1y_uVwWY",
        "outputId": "9f597176-4b10-455b-e653-c628c0cbfe92"
      },
      "execution_count": null,
      "outputs": [
        {
          "output_type": "execute_result",
          "data": {
            "text/plain": [
              "array([0, 1, 1, 1, 1, 1, 1, 1, 1, 0, 0, 1, 0, 1, 1, 1, 0, 1, 1, 0, 1, 1,\n",
              "       1, 1, 0, 0, 1, 0, 1, 1, 1, 1, 1, 0, 1, 1, 0, 1, 1, 1, 0, 0, 0, 0,\n",
              "       0, 1, 0, 1, 1, 0, 0, 1])"
            ]
          },
          "metadata": {},
          "execution_count": 32
        }
      ]
    },
    {
      "cell_type": "code",
      "source": [
        "y.shape"
      ],
      "metadata": {
        "colab": {
          "base_uri": "https://localhost:8080/"
        },
        "id": "f0NQmdzLJmZa",
        "outputId": "367bb6f1-7de9-4297-dfe1-1843edeb1502"
      },
      "execution_count": null,
      "outputs": [
        {
          "output_type": "execute_result",
          "data": {
            "text/plain": [
              "(52,)"
            ]
          },
          "metadata": {},
          "execution_count": 86
        }
      ]
    },
    {
      "cell_type": "code",
      "source": [
        "from sklearn.preprocessing import StandardScaler\n",
        "\n",
        "# the scaler object (model)\n",
        "scaler = StandardScaler()\n",
        "# fit and transform the data\n",
        "x = scaler.fit_transform(x)\n"
      ],
      "metadata": {
        "id": "mkcm4TUHZOPO"
      },
      "execution_count": null,
      "outputs": []
    },
    {
      "cell_type": "code",
      "source": [
        "from sklearn.model_selection import train_test_split\n",
        "x_train, x_test, y_train, y_test = train_test_split(x, y, test_size = 0.2, random_state = 42)"
      ],
      "metadata": {
        "id": "mkO2QCZobDGQ"
      },
      "execution_count": null,
      "outputs": []
    },
    {
      "cell_type": "markdown",
      "source": [
        "##### Gaussi Naive Bayes"
      ],
      "metadata": {
        "id": "KrAYPq7P09VO"
      }
    },
    {
      "cell_type": "code",
      "source": [
        "from sklearn.naive_bayes import GaussianNB\n",
        "nb = GaussianNB()\n",
        "nb.fit(x_train, y_train)"
      ],
      "metadata": {
        "colab": {
          "base_uri": "https://localhost:8080/"
        },
        "id": "wl8MtPeVbHaI",
        "outputId": "0ef35b29-1967-4d54-904c-e571bff25f27"
      },
      "execution_count": null,
      "outputs": [
        {
          "output_type": "execute_result",
          "data": {
            "text/plain": [
              "GaussianNB()"
            ]
          },
          "metadata": {},
          "execution_count": 88
        }
      ]
    },
    {
      "cell_type": "code",
      "source": [
        "print(\"Naive Bayes score: \",nb.score(x_test, y_test))"
      ],
      "metadata": {
        "colab": {
          "base_uri": "https://localhost:8080/"
        },
        "id": "yro0plT9bJtW",
        "outputId": "339b2121-219f-46b4-c0bb-ef30ece4cbca"
      },
      "execution_count": null,
      "outputs": [
        {
          "output_type": "stream",
          "name": "stdout",
          "text": [
            "Naive Bayes score:  0.45454545454545453\n"
          ]
        }
      ]
    },
    {
      "cell_type": "markdown",
      "source": [
        "#### SVM Classification"
      ],
      "metadata": {
        "id": "-f_PklIe0__A"
      }
    },
    {
      "cell_type": "code",
      "source": [
        "from sklearn.svm import SVC\n",
        "SVCClf = SVC(kernel = 'linear',gamma = 'scale', shrinking = False,)\n",
        "SVCClf.fit(x_train, y_train)"
      ],
      "metadata": {
        "colab": {
          "base_uri": "https://localhost:8080/"
        },
        "id": "xZR4AZ4A1EYt",
        "outputId": "736415ee-9256-478d-a421-448ae42e30fb"
      },
      "execution_count": null,
      "outputs": [
        {
          "output_type": "execute_result",
          "data": {
            "text/plain": [
              "SVC(kernel='linear', shrinking=False)"
            ]
          },
          "metadata": {},
          "execution_count": 90
        }
      ]
    },
    {
      "cell_type": "code",
      "source": [
        "print(\"SVC score: \",SVCClf.score(x_test, y_test))"
      ],
      "metadata": {
        "colab": {
          "base_uri": "https://localhost:8080/"
        },
        "id": "mxbQgXrW1Ev_",
        "outputId": "00e39e46-e053-4ddc-b12a-5271de3ba270"
      },
      "execution_count": null,
      "outputs": [
        {
          "output_type": "stream",
          "name": "stdout",
          "text": [
            "SVC score:  0.5454545454545454\n"
          ]
        }
      ]
    },
    {
      "cell_type": "markdown",
      "source": [
        "#### Random Forest"
      ],
      "metadata": {
        "id": "SJoYKsab1-Ut"
      }
    },
    {
      "cell_type": "code",
      "source": [
        "from sklearn.ensemble import RandomForestClassifier\n",
        "\n",
        "rf = RandomForestClassifier()\n",
        "\n",
        "rf.fit(x_train,y_train)"
      ],
      "metadata": {
        "colab": {
          "base_uri": "https://localhost:8080/"
        },
        "id": "kh0P1bZO1Eq6",
        "outputId": "1d745265-f0a9-43e2-cbc3-1f01a91928a3"
      },
      "execution_count": null,
      "outputs": [
        {
          "output_type": "execute_result",
          "data": {
            "text/plain": [
              "RandomForestClassifier()"
            ]
          },
          "metadata": {},
          "execution_count": 92
        }
      ]
    },
    {
      "cell_type": "code",
      "source": [
        "print(\"RF score: \",rf.score(x_test, y_test))"
      ],
      "metadata": {
        "colab": {
          "base_uri": "https://localhost:8080/"
        },
        "id": "3lbE9xTw2Jkq",
        "outputId": "5ef62ae3-8696-43fa-a646-a64c1f92dafb"
      },
      "execution_count": null,
      "outputs": [
        {
          "output_type": "stream",
          "name": "stdout",
          "text": [
            "RF score:  0.7272727272727273\n"
          ]
        }
      ]
    },
    {
      "cell_type": "code",
      "source": [
        "from sklearn.linear_model import LogisticRegression\n",
        "from sklearn.svm import SVC\n",
        "from sklearn.neighbors import KNeighborsClassifier\n",
        "from sklearn.tree import DecisionTreeClassifier\n",
        "from sklearn.ensemble import RandomForestClassifier\n",
        "from sklearn.naive_bayes import GaussianNB\n",
        "\n",
        "\n",
        "pipe = []\n",
        "pipe.append(LogisticRegression(solver = 'liblinear'))\n",
        "pipe.append(SVC(kernel = 'linear',gamma = 'scale', shrinking = False))\n",
        "pipe.append(KNeighborsClassifier())\n",
        "pipe.append(DecisionTreeClassifier())\n",
        "pipe.append(RandomForestClassifier())\n",
        "pipe.append(GaussianNB())\n",
        "pipe.append(MLPClassifier(hidden_layer_sizes=(150,100,50), max_iter=300,activation = 'relu',solver='adam',random_state=1))\n",
        "pipe.append(XGBClassifier(max_depth=5, learning_rate=0.01, n_estimators=100, gamma=0, \n",
        "                        min_child_weight=1, subsample=0.8, colsample_bytree=0.8, reg_alpha=0.005))\n",
        "pipe.append(AdaBoostClassifier(random_state = 96))"
      ],
      "metadata": {
        "id": "2GyHUT0--Z_O"
      },
      "execution_count": null,
      "outputs": []
    },
    {
      "cell_type": "code",
      "source": [
        "from sklearn import metrics\n",
        "\n",
        "from sklearn.metrics import classification_report,confusion_matrix\n",
        "\n",
        "mod = ['Logistic Regression','SVM','KNN','Decision Tree','Random Forest','Naive Bayes','MLP Classifier','XGBoost','AdaBoost']\n",
        "acclist = []\n",
        "auclist = []\n",
        "\n",
        "cmlist = []\n",
        "\n",
        "for i in pipe:\n",
        "  i.fit(x_train,y_train)\n",
        "  y_pred = i.predict(x_test)\n",
        "  acclist.append(metrics.accuracy_score(y_test,y_pred))\n",
        "  fpr,tpr, thresh = metrics.roc_curve(y_test, y_pred)\n",
        "  auclist.append(round(metrics.auc(fpr,tpr),2))\n",
        "  cmlist.append(confusion_matrix(y_test,y_pred))"
      ],
      "metadata": {
        "id": "UF2MmmGF-ZrT"
      },
      "execution_count": null,
      "outputs": []
    },
    {
      "cell_type": "code",
      "source": [
        "#plotting confusion matrix\n",
        "\n",
        "\n",
        "fig = plt.figure(figsize = (15,15))\n",
        "\n",
        "for i in range(len(cmlist)):\n",
        "  cm = cmlist[i]\n",
        "  model = mod[i]\n",
        "  sub = fig.add_subplot(3,3,i+1).set_title(model)\n",
        "\n",
        "  cmplot = sns.heatmap(cm,annot = True, cmap = 'Blues_r')\n",
        "  cmplot.set_xlabel('Predicted Values')\n",
        "  cmplot.set_ylabel('Actual Values')"
      ],
      "metadata": {
        "colab": {
          "base_uri": "https://localhost:8080/",
          "height": 893
        },
        "id": "0kGxE6x5B2Vc",
        "outputId": "72942664-24b7-4107-e7fa-8b113800fbd1"
      },
      "execution_count": null,
      "outputs": [
        {
          "output_type": "display_data",
          "data": {
            "text/plain": [
              "<Figure size 1080x1080 with 18 Axes>"
            ],
            "image/png": "[encoded data removed]"
          },
          "metadata": {
            "needs_background": "light"
          }
        }
      ]
    },
    {
      "cell_type": "code",
      "source": [
        "res = pd.DataFrame({'Model':mod, 'Accuracy':acclist,'AUC':auclist})\n",
        "res"
      ],
      "metadata": {
        "colab": {
          "base_uri": "https://localhost:8080/",
          "height": 332
        },
        "id": "eWqU_YgLDb9P",
        "outputId": "8b16f884-1f8d-491e-e7db-16d3e852893e"
      },
      "execution_count": null,
      "outputs": [
        {
          "output_type": "execute_result",
          "data": {
            "text/plain": [
              "                 Model  Accuracy   AUC\n",
              "0  Logistic Regression  0.545455  0.50\n",
              "1                  SVM  0.545455  0.50\n",
              "2                  KNN  0.636364  0.60\n",
              "3        Decision Tree  0.727273  0.70\n",
              "4        Random Forest  0.727273  0.70\n",
              "5          Naive Bayes  0.454545  0.48\n",
              "6       MLP Classifier  0.727273  0.70\n",
              "7              XGBoost  0.636364  0.60\n",
              "8             AdaBoost  0.727273  0.70"
            ],
            "text/html": [
              "\n",
              "  <div id=\"df-899ba148-4143-4717-b2f4-625fb6a59a86\">\n",
              "    <div class=\"colab-df-container\">\n",
              "      <div>\n",
              "<style scoped>\n",
              "    .dataframe tbody tr th:only-of-type {\n",
              "        vertical-align: middle;\n",
              "    }\n",
              "\n",
              "    .dataframe tbody tr th {\n",
              "        vertical-align: top;\n",
              "    }\n",
              "\n",
              "    .dataframe thead th {\n",
              "        text-align: right;\n",
              "    }\n",
              "</style>\n",
              "<table border=\"1\" class=\"dataframe\">\n",
              "  <thead>\n",
              "    <tr style=\"text-align: right;\">\n",
              "      <th></th>\n",
              "      <th>Model</th>\n",
              "      <th>Accuracy</th>\n",
              "      <th>AUC</th>\n",
              "    </tr>\n",
              "  </thead>\n",
              "  <tbody>\n",
              "    <tr>\n",
              "      <th>0</th>\n",
              "      <td>Logistic Regression</td>\n",
              "      <td>0.545455</td>\n",
              "      <td>0.50</td>\n",
              "    </tr>\n",
              "    <tr>\n",
              "      <th>1</th>\n",
              "      <td>SVM</td>\n",
              "      <td>0.545455</td>\n",
              "      <td>0.50</td>\n",
              "    </tr>\n",
              "    <tr>\n",
              "      <th>2</th>\n",
              "      <td>KNN</td>\n",
              "      <td>0.636364</td>\n",
              "      <td>0.60</td>\n",
              "    </tr>\n",
              "    <tr>\n",
              "      <th>3</th>\n",
              "      <td>Decision Tree</td>\n",
              "      <td>0.727273</td>\n",
              "      <td>0.70</td>\n",
              "    </tr>\n",
              "    <tr>\n",
              "      <th>4</th>\n",
              "      <td>Random Forest</td>\n",
              "      <td>0.727273</td>\n",
              "      <td>0.70</td>\n",
              "    </tr>\n",
              "    <tr>\n",
              "      <th>5</th>\n",
              "      <td>Naive Bayes</td>\n",
              "      <td>0.454545</td>\n",
              "      <td>0.48</td>\n",
              "    </tr>\n",
              "    <tr>\n",
              "      <th>6</th>\n",
              "      <td>MLP Classifier</td>\n",
              "      <td>0.727273</td>\n",
              "      <td>0.70</td>\n",
              "    </tr>\n",
              "    <tr>\n",
              "      <th>7</th>\n",
              "      <td>XGBoost</td>\n",
              "      <td>0.636364</td>\n",
              "      <td>0.60</td>\n",
              "    </tr>\n",
              "    <tr>\n",
              "      <th>8</th>\n",
              "      <td>AdaBoost</td>\n",
              "      <td>0.727273</td>\n",
              "      <td>0.70</td>\n",
              "    </tr>\n",
              "  </tbody>\n",
              "</table>\n",
              "</div>\n",
              "      <button class=\"colab-df-convert\" onclick=\"convertToInteractive('df-899ba148-4143-4717-b2f4-625fb6a59a86')\"\n",
              "              title=\"Convert this dataframe to an interactive table.\"\n",
              "              style=\"display:none;\">\n",
              "        \n",
              "  <svg xmlns=\"http://www.w3.org/2000/svg\" height=\"24px\"viewBox=\"0 0 24 24\"\n",
              "       width=\"24px\">\n",
              "    <path d=\"M0 0h24v24H0V0z\" fill=\"none\"/>\n",
              "    <path d=\"M18.56 5.44l.94 2.06.94-2.06 2.06-.94-2.06-.94-.94-2.06-.94 2.06-2.06.94zm-11 1L8.5 8.5l.94-2.06 2.06-.94-2.06-.94L8.5 2.5l-.94 2.06-2.06.94zm10 10l.94 2.06.94-2.06 2.06-.94-2.06-.94-.94-2.06-.94 2.06-2.06.94z\"/><path d=\"M17.41 7.96l-1.37-1.37c-.4-.4-.92-.59-1.43-.59-.52 0-1.04.2-1.43.59L10.3 9.45l-7.72 7.72c-.78.78-.78 2.05 0 2.83L4 21.41c.39.39.9.59 1.41.59.51 0 1.02-.2 1.41-.59l7.78-7.78 2.81-2.81c.8-.78.8-2.07 0-2.86zM5.41 20L4 18.59l7.72-7.72 1.47 1.35L5.41 20z\"/>\n",
              "  </svg>\n",
              "      </button>\n",
              "      \n",
              "  <style>\n",
              "    .colab-df-container {\n",
              "      display:flex;\n",
              "      flex-wrap:wrap;\n",
              "      gap: 12px;\n",
              "    }\n",
              "\n",
              "    .colab-df-convert {\n",
              "      background-color: #E8F0FE;\n",
              "      border: none;\n",
              "      border-radius: 50%;\n",
              "      cursor: pointer;\n",
              "      display: none;\n",
              "      fill: #1967D2;\n",
              "      height: 32px;\n",
              "      padding: 0 0 0 0;\n",
              "      width: 32px;\n",
              "    }\n",
              "\n",
              "    .colab-df-convert:hover {\n",
              "      background-color: #E2EBFA;\n",
              "      box-shadow: 0px 1px 2px rgba(60, 64, 67, 0.3), 0px 1px 3px 1px rgba(60, 64, 67, 0.15);\n",
              "      fill: #174EA6;\n",
              "    }\n",
              "\n",
              "    [theme=dark] .colab-df-convert {\n",
              "      background-color: #3B4455;\n",
              "      fill: #D2E3FC;\n",
              "    }\n",
              "\n",
              "    [theme=dark] .colab-df-convert:hover {\n",
              "      background-color: #434B5C;\n",
              "      box-shadow: 0px 1px 3px 1px rgba(0, 0, 0, 0.15);\n",
              "      filter: drop-shadow(0px 1px 2px rgba(0, 0, 0, 0.3));\n",
              "      fill: #FFFFFF;\n",
              "    }\n",
              "  </style>\n",
              "\n",
              "      <script>\n",
              "        const buttonEl =\n",
              "          document.querySelector('#df-899ba148-4143-4717-b2f4-625fb6a59a86 button.colab-df-convert');\n",
              "        buttonEl.style.display =\n",
              "          google.colab.kernel.accessAllowed ? 'block' : 'none';\n",
              "\n",
              "        async function convertToInteractive(key) {\n",
              "          const element = document.querySelector('#df-899ba148-4143-4717-b2f4-625fb6a59a86');\n",
              "          const dataTable =\n",
              "            await google.colab.kernel.invokeFunction('convertToInteractive',\n",
              "                                                     [key], {});\n",
              "          if (!dataTable) return;\n",
              "\n",
              "          const docLinkHtml = 'Like what you see? Visit the ' +\n",
              "            '<a target=\"_blank\" href=https://colab.research.google.com/notebooks/data_table.ipynb>data table notebook</a>'\n",
              "            + ' to learn more about interactive tables.';\n",
              "          element.innerHTML = '';\n",
              "          dataTable['output_type'] = 'display_data';\n",
              "          await google.colab.output.renderOutput(dataTable, element);\n",
              "          const docLink = document.createElement('div');\n",
              "          docLink.innerHTML = docLinkHtml;\n",
              "          element.appendChild(docLink);\n",
              "        }\n",
              "      </script>\n",
              "    </div>\n",
              "  </div>\n",
              "  "
            ]
          },
          "metadata": {},
          "execution_count": 134
        }
      ]
    },
    {
      "cell_type": "code",
      "source": [
        "res.iloc[:,1]"
      ],
      "metadata": {
        "colab": {
          "base_uri": "https://localhost:8080/"
        },
        "id": "pWpVFyfdO4pu",
        "outputId": "5e2b05a3-4d5b-43f7-ac66-a9908c20e2c1"
      },
      "execution_count": null,
      "outputs": [
        {
          "output_type": "execute_result",
          "data": {
            "text/plain": [
              "0    0.545455\n",
              "1    0.545455\n",
              "2    0.636364\n",
              "3    0.727273\n",
              "4    0.727273\n",
              "5    0.454545\n",
              "6    0.727273\n",
              "7    0.636364\n",
              "8    0.727273\n",
              "Name: Accuracy, dtype: float64"
            ]
          },
          "metadata": {},
          "execution_count": 135
        }
      ]
    },
    {
      "cell_type": "markdown",
      "source": [
        "## Statistical Tests"
      ],
      "metadata": {
        "id": "9bdVqCYi_kpS"
      }
    },
    {
      "cell_type": "code",
      "source": [
        "from scipy.stats import ttest_ind"
      ],
      "metadata": {
        "id": "wGQ692PxAWv8"
      },
      "execution_count": null,
      "outputs": []
    },
    {
      "cell_type": "markdown",
      "source": [
        "Independent t tests"
      ],
      "metadata": {
        "id": "6Eza_QSLCMOD"
      }
    },
    {
      "cell_type": "code",
      "source": [
        "ttest_ind(df.iloc[:,5], df.iloc[:,6])"
      ],
      "metadata": {
        "colab": {
          "base_uri": "https://localhost:8080/"
        },
        "id": "bbfo3oWiAWqX",
        "outputId": "3e48a76d-5593-4fb0-80dd-76317d80c456"
      },
      "execution_count": null,
      "outputs": [
        {
          "output_type": "execute_result",
          "data": {
            "text/plain": [
              "Ttest_indResult(statistic=1.882422362241734, pvalue=0.06262870851824211)"
            ]
          },
          "metadata": {},
          "execution_count": 102
        }
      ]
    },
    {
      "cell_type": "markdown",
      "source": [
        "## MultiLayer Perceptron"
      ],
      "metadata": {
        "id": "WDw_12DJCaPj"
      }
    },
    {
      "cell_type": "code",
      "source": [
        "#Importing MLPClassifier\n",
        "from sklearn.neural_network import MLPClassifier\n",
        "\n",
        "#Initializing the MLPClassifier\n",
        "classifier = MLPClassifier(hidden_layer_sizes=(150,100,50), max_iter=300,activation = 'relu',solver='adam',random_state=1)"
      ],
      "metadata": {
        "id": "cPGYwqY0CPJV"
      },
      "execution_count": null,
      "outputs": []
    },
    {
      "cell_type": "code",
      "source": [
        "#Fitting the training data to the network\n",
        "classifier.fit(x_train, y_train)"
      ],
      "metadata": {
        "colab": {
          "base_uri": "https://localhost:8080/"
        },
        "id": "_SQ-KU7kCO2H",
        "outputId": "56dbf6a0-7664-44f9-8d5d-4c7fafa435af"
      },
      "execution_count": null,
      "outputs": [
        {
          "output_type": "execute_result",
          "data": {
            "text/plain": [
              "MLPClassifier(hidden_layer_sizes=(150, 100, 50), max_iter=300, random_state=1)"
            ]
          },
          "metadata": {},
          "execution_count": 104
        }
      ]
    },
    {
      "cell_type": "code",
      "source": [
        "y_predmlp = classifier.predict(x_test)"
      ],
      "metadata": {
        "id": "iOGq_KQuFIJL"
      },
      "execution_count": null,
      "outputs": []
    },
    {
      "cell_type": "code",
      "source": [
        "from sklearn.metrics import accuracy_score\n",
        "from sklearn.metrics import confusion_matrix"
      ],
      "metadata": {
        "id": "cMZ9_UNaGS9A"
      },
      "execution_count": null,
      "outputs": []
    },
    {
      "cell_type": "code",
      "source": [
        "classifier.score(x_test, y_test)"
      ],
      "metadata": {
        "colab": {
          "base_uri": "https://localhost:8080/"
        },
        "id": "S5W0pOZnKRNJ",
        "outputId": "50d24458-ee1a-4be7-8474-223cc940364b"
      },
      "execution_count": null,
      "outputs": [
        {
          "output_type": "execute_result",
          "data": {
            "text/plain": [
              "0.7272727272727273"
            ]
          },
          "metadata": {},
          "execution_count": 115
        }
      ]
    },
    {
      "cell_type": "markdown",
      "source": [
        "## Boosting algorithms"
      ],
      "metadata": {
        "id": "sAkT3zk1Gyxu"
      }
    },
    {
      "cell_type": "code",
      "source": [
        "from sklearn.naive_bayes import GaussianNB\n",
        "from sklearn.decomposition import PCA\n",
        "from xgboost import XGBClassifier\n",
        "from sklearn.preprocessing import LabelEncoder, MinMaxScaler\n",
        "from sklearn.metrics import confusion_matrix, precision_score, recall_score, f1_score\n",
        "import time"
      ],
      "metadata": {
        "id": "hzROxf3NGzi0"
      },
      "execution_count": null,
      "outputs": []
    },
    {
      "cell_type": "markdown",
      "source": [
        "### XGBoost"
      ],
      "metadata": {
        "id": "Evyxp9MRKlH5"
      }
    },
    {
      "cell_type": "code",
      "source": [
        "xgboost = XGBClassifier(max_depth=5, learning_rate=0.01, n_estimators=100, gamma=0, \n",
        "                        min_child_weight=1, subsample=0.8, colsample_bytree=0.8, reg_alpha=0.005)\n",
        "\n",
        "xgboost.fit(x_train, y_train)\n",
        "preds = xgboost.predict(x_test)"
      ],
      "metadata": {
        "id": "y2GlwLpdGxG9"
      },
      "execution_count": null,
      "outputs": []
    },
    {
      "cell_type": "code",
      "source": [
        "xgboost.score(x_test, y_test)"
      ],
      "metadata": {
        "colab": {
          "base_uri": "https://localhost:8080/"
        },
        "id": "lwY5c1q4KupQ",
        "outputId": "8d771eda-4aff-4c7f-9a4b-a0e101412b2f"
      },
      "execution_count": null,
      "outputs": [
        {
          "output_type": "execute_result",
          "data": {
            "text/plain": [
              "0.6363636363636364"
            ]
          },
          "metadata": {},
          "execution_count": 116
        }
      ]
    },
    {
      "cell_type": "markdown",
      "source": [
        "### AdaBoost Classifier"
      ],
      "metadata": {
        "id": "n_0sMFmDK1b2"
      }
    },
    {
      "cell_type": "code",
      "source": [
        "from sklearn.ensemble import AdaBoostClassifier\n",
        "\n",
        "clf = AdaBoostClassifier(random_state = 96)\n",
        "\n",
        "clf.fit(x_train,y_train)"
      ],
      "metadata": {
        "colab": {
          "base_uri": "https://localhost:8080/"
        },
        "id": "T2WSlmCVItWJ",
        "outputId": "e2827032-5f38-48ed-bf77-2289762a0096"
      },
      "execution_count": null,
      "outputs": [
        {
          "output_type": "execute_result",
          "data": {
            "text/plain": [
              "AdaBoostClassifier(random_state=96)"
            ]
          },
          "metadata": {},
          "execution_count": 110
        }
      ]
    },
    {
      "cell_type": "code",
      "source": [
        "clf.score(x_train, y_train)"
      ],
      "metadata": {
        "colab": {
          "base_uri": "https://localhost:8080/"
        },
        "id": "ZLp-dU9xI_gh",
        "outputId": "31931f73-d092-4c5a-ef5e-7cdddde1aeeb"
      },
      "execution_count": null,
      "outputs": [
        {
          "output_type": "execute_result",
          "data": {
            "text/plain": [
              "1.0"
            ]
          },
          "metadata": {},
          "execution_count": 111
        }
      ]
    },
    {
      "cell_type": "code",
      "source": [
        "clf.score(x_test, y_test)"
      ],
      "metadata": {
        "colab": {
          "base_uri": "https://localhost:8080/"
        },
        "id": "s2HRoDqBJIyC",
        "outputId": "46cdb30e-7071-4914-a096-cf986aa25215"
      },
      "execution_count": null,
      "outputs": [
        {
          "output_type": "execute_result",
          "data": {
            "text/plain": [
              "0.7272727272727273"
            ]
          },
          "metadata": {},
          "execution_count": 112
        }
      ]
    },
    {
      "cell_type": "markdown",
      "source": [
        "## Barplot for accuracies"
      ],
      "metadata": {
        "id": "tcvPXkoOPOCv"
      }
    },
    {
      "cell_type": "code",
      "source": [
        "import seaborn as sns"
      ],
      "metadata": {
        "id": "DmCXby8GPWq1"
      },
      "execution_count": null,
      "outputs": []
    },
    {
      "cell_type": "code",
      "source": [
        "sns.barplot(x=\"Model\", y=\"Accuracy\",data = res)\n",
        "plt.xticks(rotation=90)\n",
        "plt.title('Accuracy Comparison')\n",
        "plt.show()"
      ],
      "metadata": {
        "colab": {
          "base_uri": "https://localhost:8080/",
          "height": 381
        },
        "id": "IUGG4MYtPLkl",
        "outputId": "267d5eb3-8c4c-48a9-b4cd-fc8c724d5166"
      },
      "execution_count": null,
      "outputs": [
        {
          "output_type": "display_data",
          "data": {
            "text/plain": [
              "<Figure size 432x288 with 1 Axes>"
            ],
            "image/png": "[encoded data removed]"
          },
          "metadata": {
            "needs_background": "light"
          }
        }
      ]
    }
  ]
}